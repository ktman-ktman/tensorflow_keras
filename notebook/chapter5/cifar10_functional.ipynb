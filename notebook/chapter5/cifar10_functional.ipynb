{
 "cells": [
  {
   "cell_type": "markdown",
   "source": [
    "# CIFAR10 with CNN"
   ],
   "metadata": {}
  },
  {
   "cell_type": "code",
   "execution_count": 1,
   "source": [
    "import tensorflow as tf\n",
    "from common import make_cifar10_dataset\n",
    "from common import create_functional_model\n",
    "import datetime\n",
    "\n",
    "%load_ext tensorboard\n",
    "\n",
    "BATCH_SIZE = 128\n",
    "EPOCHS = 5\n",
    "\n",
    "!rm -rf ./logs/"
   ],
   "outputs": [],
   "metadata": {}
  },
  {
   "cell_type": "code",
   "execution_count": 2,
   "source": [
    "train_ds, valid_ds, test_ds = make_cifar10_dataset(BATCH_SIZE)"
   ],
   "outputs": [
    {
     "output_type": "stream",
     "name": "stderr",
     "text": [
      "2021-09-04 02:38:50.873280: I tensorflow/stream_executor/cuda/cuda_gpu_executor.cc:923] could not open file to read NUMA node: /sys/bus/pci/devices/0000:01:00.0/numa_node\n",
      "Your kernel may have been built without NUMA support.\n",
      "2021-09-04 02:38:50.885629: I tensorflow/stream_executor/cuda/cuda_gpu_executor.cc:923] could not open file to read NUMA node: /sys/bus/pci/devices/0000:01:00.0/numa_node\n",
      "Your kernel may have been built without NUMA support.\n",
      "2021-09-04 02:38:50.886877: I tensorflow/stream_executor/cuda/cuda_gpu_executor.cc:923] could not open file to read NUMA node: /sys/bus/pci/devices/0000:01:00.0/numa_node\n",
      "Your kernel may have been built without NUMA support.\n",
      "2021-09-04 02:38:50.888879: I tensorflow/core/platform/cpu_feature_guard.cc:142] This TensorFlow binary is optimized with oneAPI Deep Neural Network Library (oneDNN) to use the following CPU instructions in performance-critical operations:  AVX2 AVX512F FMA\n",
      "To enable them in other operations, rebuild TensorFlow with the appropriate compiler flags.\n",
      "2021-09-04 02:38:50.890536: I tensorflow/stream_executor/cuda/cuda_gpu_executor.cc:923] could not open file to read NUMA node: /sys/bus/pci/devices/0000:01:00.0/numa_node\n",
      "Your kernel may have been built without NUMA support.\n",
      "2021-09-04 02:38:50.891413: I tensorflow/stream_executor/cuda/cuda_gpu_executor.cc:923] could not open file to read NUMA node: /sys/bus/pci/devices/0000:01:00.0/numa_node\n",
      "Your kernel may have been built without NUMA support.\n",
      "2021-09-04 02:38:50.892088: I tensorflow/stream_executor/cuda/cuda_gpu_executor.cc:923] could not open file to read NUMA node: /sys/bus/pci/devices/0000:01:00.0/numa_node\n",
      "Your kernel may have been built without NUMA support.\n",
      "2021-09-04 02:38:52.156076: I tensorflow/stream_executor/cuda/cuda_gpu_executor.cc:923] could not open file to read NUMA node: /sys/bus/pci/devices/0000:01:00.0/numa_node\n",
      "Your kernel may have been built without NUMA support.\n",
      "2021-09-04 02:38:52.157012: I tensorflow/stream_executor/cuda/cuda_gpu_executor.cc:923] could not open file to read NUMA node: /sys/bus/pci/devices/0000:01:00.0/numa_node\n",
      "Your kernel may have been built without NUMA support.\n",
      "2021-09-04 02:38:52.157314: I tensorflow/core/common_runtime/gpu/gpu_device.cc:1594] Could not identify NUMA node of platform GPU id 0, defaulting to 0.  Your kernel may not have been built with NUMA support.\n",
      "2021-09-04 02:38:52.157836: I tensorflow/stream_executor/cuda/cuda_gpu_executor.cc:923] could not open file to read NUMA node: /sys/bus/pci/devices/0000:01:00.0/numa_node\n",
      "Your kernel may have been built without NUMA support.\n",
      "2021-09-04 02:38:52.158054: W tensorflow/core/common_runtime/gpu/gpu_bfc_allocator.cc:39] Overriding allow_growth setting because the TF_FORCE_GPU_ALLOW_GROWTH environment variable is set. Original config value was 0.\n",
      "2021-09-04 02:38:52.158088: I tensorflow/core/common_runtime/gpu/gpu_device.cc:1510] Created device /job:localhost/replica:0/task:0/device:GPU:0 with 1303 MB memory:  -> device: 0, name: NVIDIA GeForce MX350, pci bus id: 0000:01:00.0, compute capability: 6.1\n"
     ]
    }
   ],
   "metadata": {}
  },
  {
   "cell_type": "code",
   "execution_count": 3,
   "source": [
    "model = create_functional_model()"
   ],
   "outputs": [],
   "metadata": {}
  },
  {
   "cell_type": "code",
   "execution_count": 4,
   "source": [
    "model.compile(\n",
    "    loss=\"sparse_categorical_crossentropy\",\n",
    "    optimizer=\"adam\",\n",
    "    metrics=[\"accuracy\"]\n",
    ")"
   ],
   "outputs": [],
   "metadata": {}
  },
  {
   "cell_type": "code",
   "execution_count": 5,
   "source": [
    "log_dir = \"logs/fit/\" + datetime.datetime.now().strftime(\"%Y%m%d-%H%M%S\")\n",
    "tensorboard_callback = tf.keras.callbacks.TensorBoard(log_dir=log_dir, histogram_freq=1)\n",
    "\n",
    "history = model.fit(train_ds, validation_data=valid_ds, epochs=EPOCHS, callbacks=[tensorboard_callback])"
   ],
   "outputs": [
    {
     "output_type": "stream",
     "name": "stderr",
     "text": [
      "2021-09-04 02:38:58.612002: I tensorflow/core/profiler/lib/profiler_session.cc:131] Profiler session initializing.\n",
      "2021-09-04 02:38:58.612058: I tensorflow/core/profiler/lib/profiler_session.cc:146] Profiler session started.\n",
      "2021-09-04 02:38:58.612142: I tensorflow/core/profiler/internal/gpu/cupti_tracer.cc:1614] Profiler found 1 GPUs\n",
      "2021-09-04 02:38:58.612685: W tensorflow/stream_executor/platform/default/dso_loader.cc:64] Could not load dynamic library 'libcupti.so.11.2'; dlerror: libcupti.so.11.2: cannot open shared object file: No such file or directory; LD_LIBRARY_PATH: /usr/local/nvidia/lib:/usr/local/nvidia/lib64\n",
      "2021-09-04 02:38:58.635226: E tensorflow/core/profiler/internal/gpu/cupti_tracer.cc:1666] function cupti_interface_->Subscribe( &subscriber_, (CUpti_CallbackFunc)ApiCallback, this)failed with error CUPTI_ERROR_NOT_INITIALIZED\n",
      "2021-09-04 02:38:58.635806: I tensorflow/core/profiler/lib/profiler_session.cc:164] Profiler session tear down.\n"
     ]
    },
    {
     "output_type": "stream",
     "name": "stdout",
     "text": [
      "Epoch 1/5\n"
     ]
    },
    {
     "output_type": "stream",
     "name": "stderr",
     "text": [
      "2021-09-04 02:38:59.489534: I tensorflow/compiler/mlir/mlir_graph_optimization_pass.cc:185] None of the MLIR Optimization Passes are enabled (registered 2)\n",
      "2021-09-04 02:39:01.343153: I tensorflow/stream_executor/cuda/cuda_dnn.cc:369] Loaded cuDNN version 8202\n"
     ]
    },
    {
     "output_type": "stream",
     "name": "stdout",
     "text": [
      "  2/313 [..............................] - ETA: 59s - loss: 2.3149 - accuracy: 0.0859  "
     ]
    },
    {
     "output_type": "stream",
     "name": "stderr",
     "text": [
      "2021-09-04 02:39:04.413517: I tensorflow/core/profiler/lib/profiler_session.cc:131] Profiler session initializing.\n",
      "2021-09-04 02:39:04.413631: I tensorflow/core/profiler/lib/profiler_session.cc:146] Profiler session started.\n",
      "2021-09-04 02:39:04.503146: E tensorflow/core/profiler/internal/gpu/cupti_tracer.cc:1666] function cupti_interface_->Subscribe( &subscriber_, (CUpti_CallbackFunc)ApiCallback, this)failed with error CUPTI_ERROR_NOT_INITIALIZED\n",
      "2021-09-04 02:39:04.572723: I tensorflow/core/profiler/lib/profiler_session.cc:66] Profiler session collecting data.\n",
      "2021-09-04 02:39:04.579395: I tensorflow/core/profiler/internal/gpu/cupti_collector.cc:673]  GpuTracer has collected 0 callback api events and 0 activity events. \n",
      "2021-09-04 02:39:04.584608: I tensorflow/core/profiler/lib/profiler_session.cc:164] Profiler session tear down.\n",
      "2021-09-04 02:39:04.595444: I tensorflow/core/profiler/rpc/client/save_profile.cc:136] Creating directory: logs/fit/20210904-023858/train/plugins/profile/2021_09_04_02_39_04\n",
      "\n",
      "2021-09-04 02:39:04.602985: I tensorflow/core/profiler/rpc/client/save_profile.cc:142] Dumped gzipped tool data for trace.json.gz to logs/fit/20210904-023858/train/plugins/profile/2021_09_04_02_39_04/dcbc19f242dd.trace.json.gz\n"
     ]
    },
    {
     "output_type": "stream",
     "name": "stdout",
     "text": [
      "  5/313 [..............................] - ETA: 32s - loss: 2.3072 - accuracy: 0.1016"
     ]
    },
    {
     "output_type": "stream",
     "name": "stderr",
     "text": [
      "2021-09-04 02:39:04.615964: I tensorflow/core/profiler/rpc/client/save_profile.cc:136] Creating directory: logs/fit/20210904-023858/train/plugins/profile/2021_09_04_02_39_04\n",
      "\n",
      "2021-09-04 02:39:04.618897: I tensorflow/core/profiler/rpc/client/save_profile.cc:142] Dumped gzipped tool data for memory_profile.json.gz to logs/fit/20210904-023858/train/plugins/profile/2021_09_04_02_39_04/dcbc19f242dd.memory_profile.json.gz\n",
      "2021-09-04 02:39:04.619374: I tensorflow/core/profiler/rpc/client/capture_profile.cc:251] Creating directory: logs/fit/20210904-023858/train/plugins/profile/2021_09_04_02_39_04\n",
      "Dumped tool data for xplane.pb to logs/fit/20210904-023858/train/plugins/profile/2021_09_04_02_39_04/dcbc19f242dd.xplane.pb\n",
      "Dumped tool data for overview_page.pb to logs/fit/20210904-023858/train/plugins/profile/2021_09_04_02_39_04/dcbc19f242dd.overview_page.pb\n",
      "Dumped tool data for input_pipeline.pb to logs/fit/20210904-023858/train/plugins/profile/2021_09_04_02_39_04/dcbc19f242dd.input_pipeline.pb\n",
      "Dumped tool data for tensorflow_stats.pb to logs/fit/20210904-023858/train/plugins/profile/2021_09_04_02_39_04/dcbc19f242dd.tensorflow_stats.pb\n",
      "Dumped tool data for kernel_stats.pb to logs/fit/20210904-023858/train/plugins/profile/2021_09_04_02_39_04/dcbc19f242dd.kernel_stats.pb\n",
      "\n"
     ]
    },
    {
     "output_type": "stream",
     "name": "stdout",
     "text": [
      "313/313 [==============================] - 25s 65ms/step - loss: 1.5724 - accuracy: 0.4260 - val_loss: 1.2995 - val_accuracy: 0.5361\n"
     ]
    },
    {
     "output_type": "stream",
     "name": "stderr",
     "text": [
      "2021-09-04 02:39:24.657697: W tensorflow/core/framework/cpu_allocator_impl.cc:80] Allocation of 251658240 exceeds 10% of free system memory.\n"
     ]
    },
    {
     "output_type": "stream",
     "name": "stdout",
     "text": [
      "Epoch 2/5\n",
      "313/313 [==============================] - 27s 85ms/step - loss: 1.1375 - accuracy: 0.5925 - val_loss: 0.9419 - val_accuracy: 0.6708\n"
     ]
    },
    {
     "output_type": "stream",
     "name": "stderr",
     "text": [
      "2021-09-04 02:39:51.942398: W tensorflow/core/framework/cpu_allocator_impl.cc:80] Allocation of 251658240 exceeds 10% of free system memory.\n"
     ]
    },
    {
     "output_type": "stream",
     "name": "stdout",
     "text": [
      "Epoch 3/5\n",
      "313/313 [==============================] - 27s 86ms/step - loss: 0.9437 - accuracy: 0.6672 - val_loss: 0.8378 - val_accuracy: 0.7024\n"
     ]
    },
    {
     "output_type": "stream",
     "name": "stderr",
     "text": [
      "2021-09-04 02:40:19.290424: W tensorflow/core/framework/cpu_allocator_impl.cc:80] Allocation of 251658240 exceeds 10% of free system memory.\n"
     ]
    },
    {
     "output_type": "stream",
     "name": "stdout",
     "text": [
      "Epoch 4/5\n",
      "313/313 [==============================] - 31s 98ms/step - loss: 0.8235 - accuracy: 0.7102 - val_loss: 0.8773 - val_accuracy: 0.6908\n"
     ]
    },
    {
     "output_type": "stream",
     "name": "stderr",
     "text": [
      "2021-09-04 02:40:50.624745: W tensorflow/core/framework/cpu_allocator_impl.cc:80] Allocation of 251658240 exceeds 10% of free system memory.\n"
     ]
    },
    {
     "output_type": "stream",
     "name": "stdout",
     "text": [
      "Epoch 5/5\n",
      "313/313 [==============================] - 32s 101ms/step - loss: 0.7422 - accuracy: 0.7399 - val_loss: 0.7700 - val_accuracy: 0.7326\n"
     ]
    },
    {
     "output_type": "stream",
     "name": "stderr",
     "text": [
      "2021-09-04 02:41:22.926248: W tensorflow/core/framework/cpu_allocator_impl.cc:80] Allocation of 251658240 exceeds 10% of free system memory.\n"
     ]
    }
   ],
   "metadata": {}
  },
  {
   "cell_type": "code",
   "execution_count": 6,
   "source": [
    "model.evaluate(test_ds)"
   ],
   "outputs": [
    {
     "output_type": "stream",
     "name": "stdout",
     "text": [
      "79/79 [==============================] - 3s 38ms/step - loss: 0.7868 - accuracy: 0.7275\n"
     ]
    },
    {
     "output_type": "execute_result",
     "data": {
      "text/plain": [
       "[0.7867623567581177, 0.7275000214576721]"
      ]
     },
     "metadata": {},
     "execution_count": 6
    }
   ],
   "metadata": {}
  },
  {
   "cell_type": "code",
   "execution_count": 7,
   "source": [
    "%tensorboard --logdir logs/fit"
   ],
   "outputs": [
    {
     "output_type": "display_data",
     "data": {
      "text/plain": [
       "Reusing TensorBoard on port 6006 (pid 4902), started 0:07:42 ago. (Use '!kill 4902' to kill it.)"
      ]
     },
     "metadata": {}
    },
    {
     "output_type": "display_data",
     "data": {
      "text/html": [
       "\n",
       "      <iframe id=\"tensorboard-frame-36ce6032ef4dfd33\" width=\"100%\" height=\"800\" frameborder=\"0\">\n",
       "      </iframe>\n",
       "      <script>\n",
       "        (function() {\n",
       "          const frame = document.getElementById(\"tensorboard-frame-36ce6032ef4dfd33\");\n",
       "          const url = new URL(\"http://localhost\");\n",
       "          const port = 6006;\n",
       "          if (port) {\n",
       "            url.port = port;\n",
       "          }\n",
       "          frame.src = url;\n",
       "        })();\n",
       "      </script>\n",
       "    "
      ],
      "text/plain": [
       "<IPython.core.display.HTML object>"
      ]
     },
     "metadata": {}
    }
   ],
   "metadata": {}
  },
  {
   "cell_type": "code",
   "execution_count": null,
   "source": [],
   "outputs": [],
   "metadata": {}
  }
 ],
 "metadata": {
  "orig_nbformat": 4,
  "language_info": {
   "name": "python",
   "version": "3.8.10",
   "mimetype": "text/x-python",
   "codemirror_mode": {
    "name": "ipython",
    "version": 3
   },
   "pygments_lexer": "ipython3",
   "nbconvert_exporter": "python",
   "file_extension": ".py"
  },
  "kernelspec": {
   "name": "python3",
   "display_name": "Python 3.8.10 64-bit ('.venv': poetry)"
  },
  "interpreter": {
   "hash": "b6e9cd543eb3d489f861f1fd199b69c91e51133375e423accacd88bcc33c23ed"
  }
 },
 "nbformat": 4,
 "nbformat_minor": 2
}