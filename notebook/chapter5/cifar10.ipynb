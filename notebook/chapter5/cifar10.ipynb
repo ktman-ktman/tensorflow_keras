{
 "cells": [
  {
   "cell_type": "markdown",
   "source": [
    "# CIFAR10 with CNN"
   ],
   "metadata": {}
  },
  {
   "cell_type": "code",
   "execution_count": 1,
   "source": [
    "import tensorflow as tf\n",
    "from common import make_cifar10_dataset\n",
    "from common import create_sequential_model\n",
    "\n",
    "BATCH_SIZE = 512\n",
    "EPOCHS = 20"
   ],
   "outputs": [],
   "metadata": {}
  },
  {
   "cell_type": "code",
   "execution_count": 2,
   "source": [
    "train_ds, valid_ds, test_ds = make_cifar10_dataset(BATCH_SIZE)"
   ],
   "outputs": [
    {
     "output_type": "stream",
     "name": "stderr",
     "text": [
      "2021-08-30 10:26:33.707787: I tensorflow/stream_executor/cuda/cuda_gpu_executor.cc:923] could not open file to read NUMA node: /sys/bus/pci/devices/0000:01:00.0/numa_node\n",
      "Your kernel may have been built without NUMA support.\n",
      "2021-08-30 10:26:33.720525: I tensorflow/stream_executor/cuda/cuda_gpu_executor.cc:923] could not open file to read NUMA node: /sys/bus/pci/devices/0000:01:00.0/numa_node\n",
      "Your kernel may have been built without NUMA support.\n",
      "2021-08-30 10:26:33.722046: I tensorflow/stream_executor/cuda/cuda_gpu_executor.cc:923] could not open file to read NUMA node: /sys/bus/pci/devices/0000:01:00.0/numa_node\n",
      "Your kernel may have been built without NUMA support.\n",
      "2021-08-30 10:26:33.723363: I tensorflow/core/platform/cpu_feature_guard.cc:142] This TensorFlow binary is optimized with oneAPI Deep Neural Network Library (oneDNN) to use the following CPU instructions in performance-critical operations:  AVX2 AVX512F FMA\n",
      "To enable them in other operations, rebuild TensorFlow with the appropriate compiler flags.\n",
      "2021-08-30 10:26:33.724716: I tensorflow/stream_executor/cuda/cuda_gpu_executor.cc:923] could not open file to read NUMA node: /sys/bus/pci/devices/0000:01:00.0/numa_node\n",
      "Your kernel may have been built without NUMA support.\n",
      "2021-08-30 10:26:33.726330: I tensorflow/stream_executor/cuda/cuda_gpu_executor.cc:923] could not open file to read NUMA node: /sys/bus/pci/devices/0000:01:00.0/numa_node\n",
      "Your kernel may have been built without NUMA support.\n",
      "2021-08-30 10:26:33.727841: I tensorflow/stream_executor/cuda/cuda_gpu_executor.cc:923] could not open file to read NUMA node: /sys/bus/pci/devices/0000:01:00.0/numa_node\n",
      "Your kernel may have been built without NUMA support.\n",
      "2021-08-30 10:26:34.933851: I tensorflow/stream_executor/cuda/cuda_gpu_executor.cc:923] could not open file to read NUMA node: /sys/bus/pci/devices/0000:01:00.0/numa_node\n",
      "Your kernel may have been built without NUMA support.\n",
      "2021-08-30 10:26:34.934717: I tensorflow/stream_executor/cuda/cuda_gpu_executor.cc:923] could not open file to read NUMA node: /sys/bus/pci/devices/0000:01:00.0/numa_node\n",
      "Your kernel may have been built without NUMA support.\n",
      "2021-08-30 10:26:34.935079: I tensorflow/core/common_runtime/gpu/gpu_device.cc:1594] Could not identify NUMA node of platform GPU id 0, defaulting to 0.  Your kernel may not have been built with NUMA support.\n",
      "2021-08-30 10:26:34.935688: I tensorflow/stream_executor/cuda/cuda_gpu_executor.cc:923] could not open file to read NUMA node: /sys/bus/pci/devices/0000:01:00.0/numa_node\n",
      "Your kernel may have been built without NUMA support.\n",
      "2021-08-30 10:26:34.935970: W tensorflow/core/common_runtime/gpu/gpu_bfc_allocator.cc:39] Overriding allow_growth setting because the TF_FORCE_GPU_ALLOW_GROWTH environment variable is set. Original config value was 0.\n",
      "2021-08-30 10:26:34.936013: I tensorflow/core/common_runtime/gpu/gpu_device.cc:1510] Created device /job:localhost/replica:0/task:0/device:GPU:0 with 1303 MB memory:  -> device: 0, name: NVIDIA GeForce MX350, pci bus id: 0000:01:00.0, compute capability: 6.1\n",
      "2021-08-30 10:26:35.469514: W tensorflow/core/framework/cpu_allocator_impl.cc:80] Allocation of 122880000 exceeds 10% of free system memory.\n",
      "2021-08-30 10:26:35.701510: W tensorflow/core/framework/cpu_allocator_impl.cc:80] Allocation of 122880000 exceeds 10% of free system memory.\n"
     ]
    }
   ],
   "metadata": {}
  },
  {
   "cell_type": "code",
   "execution_count": 3,
   "source": [
    " model = create_sequential_model()"
   ],
   "outputs": [],
   "metadata": {}
  },
  {
   "cell_type": "code",
   "execution_count": 8,
   "source": [
    "model.compile(\n",
    "    loss=\"sparse_categorical_crossentropy\",\n",
    "    optimizer=\"adam\",\n",
    ")"
   ],
   "outputs": [],
   "metadata": {}
  },
  {
   "cell_type": "code",
   "execution_count": 9,
   "source": [
    "model.fit(train_ds, validation_data=valid_ds, epochs=EPOCHS)"
   ],
   "outputs": [
    {
     "output_type": "stream",
     "name": "stderr",
     "text": [
      "2021-08-30 10:29:33.778770: W tensorflow/core/framework/cpu_allocator_impl.cc:80] Allocation of 122880000 exceeds 10% of free system memory.\n"
     ]
    },
    {
     "output_type": "stream",
     "name": "stdout",
     "text": [
      "Epoch 1/20\n"
     ]
    },
    {
     "output_type": "stream",
     "name": "stderr",
     "text": [
      "2021-08-30 10:29:34.179492: I tensorflow/compiler/mlir/mlir_graph_optimization_pass.cc:185] None of the MLIR Optimization Passes are enabled (registered 2)\n",
      "2021-08-30 10:29:36.693742: I tensorflow/stream_executor/cuda/cuda_dnn.cc:369] Loaded cuDNN version 8202\n",
      "2021-08-30 10:29:43.087825: W tensorflow/core/common_runtime/bfc_allocator.cc:272] Allocator (GPU_0_bfc) ran out of memory trying to allocate 1.11GiB with freed_by_count=0. The caller indicates that this is not a failure, but may mean that there could be performance gains if more memory were available.\n"
     ]
    },
    {
     "output_type": "stream",
     "name": "stdout",
     "text": [
      "79/79 [==============================] - 22s 166ms/step - loss: 1.7906 - val_loss: 1.4937\n",
      "Epoch 2/20\n",
      "79/79 [==============================] - 15s 186ms/step - loss: 1.3951 - val_loss: 1.3342\n",
      "Epoch 3/20\n",
      "79/79 [==============================] - 15s 191ms/step - loss: 1.2180 - val_loss: 1.1449\n",
      "Epoch 4/20\n",
      "79/79 [==============================] - 16s 196ms/step - loss: 1.0708 - val_loss: 1.0216\n",
      "Epoch 5/20\n",
      "79/79 [==============================] - 18s 220ms/step - loss: 0.9864 - val_loss: 0.9517\n",
      "Epoch 6/20\n",
      "79/79 [==============================] - 18s 224ms/step - loss: 0.9050 - val_loss: 0.8887\n",
      "Epoch 7/20\n",
      "79/79 [==============================] - 18s 227ms/step - loss: 0.8513 - val_loss: 0.8472\n",
      "Epoch 8/20\n",
      "79/79 [==============================] - 19s 235ms/step - loss: 0.7844 - val_loss: 0.8182\n",
      "Epoch 9/20\n",
      "79/79 [==============================] - 21s 269ms/step - loss: 0.7306 - val_loss: 0.8513\n",
      "Epoch 10/20\n",
      "79/79 [==============================] - 21s 263ms/step - loss: 0.6999 - val_loss: 0.7908\n",
      "Epoch 11/20\n",
      "79/79 [==============================] - 20s 257ms/step - loss: 0.6420 - val_loss: 0.7937\n",
      "Epoch 12/20\n",
      "79/79 [==============================] - 22s 268ms/step - loss: 0.6005 - val_loss: 0.8106\n",
      "Epoch 13/20\n",
      "79/79 [==============================] - 22s 275ms/step - loss: 0.5604 - val_loss: 0.7570\n",
      "Epoch 14/20\n",
      "79/79 [==============================] - 22s 271ms/step - loss: 0.5213 - val_loss: 0.7302\n",
      "Epoch 15/20\n",
      "79/79 [==============================] - 22s 281ms/step - loss: 0.4839 - val_loss: 0.7550\n",
      "Epoch 16/20\n",
      "79/79 [==============================] - 23s 292ms/step - loss: 0.4619 - val_loss: 0.7858\n",
      "Epoch 17/20\n",
      "79/79 [==============================] - 25s 313ms/step - loss: 0.4338 - val_loss: 0.7571\n",
      "Epoch 18/20\n",
      "79/79 [==============================] - 23s 282ms/step - loss: 0.4144 - val_loss: 0.7647\n",
      "Epoch 19/20\n",
      "79/79 [==============================] - 22s 275ms/step - loss: 0.3734 - val_loss: 0.7458\n",
      "Epoch 20/20\n",
      "79/79 [==============================] - 22s 277ms/step - loss: 0.3522 - val_loss: 0.7486\n"
     ]
    },
    {
     "output_type": "execute_result",
     "data": {
      "text/plain": [
       "<keras.callbacks.History at 0x7fbd0d1610a0>"
      ]
     },
     "metadata": {},
     "execution_count": 9
    }
   ],
   "metadata": {}
  },
  {
   "cell_type": "code",
   "execution_count": 10,
   "source": [
    "model.evaluate(test_ds)"
   ],
   "outputs": [
    {
     "output_type": "stream",
     "name": "stdout",
     "text": [
      "20/20 [==============================] - 2s 82ms/step - loss: 0.7743\n"
     ]
    },
    {
     "output_type": "execute_result",
     "data": {
      "text/plain": [
       "0.7742505073547363"
      ]
     },
     "metadata": {},
     "execution_count": 10
    }
   ],
   "metadata": {}
  },
  {
   "cell_type": "code",
   "execution_count": null,
   "source": [],
   "outputs": [],
   "metadata": {}
  }
 ],
 "metadata": {
  "orig_nbformat": 4,
  "language_info": {
   "name": "python",
   "version": "3.8.10",
   "mimetype": "text/x-python",
   "codemirror_mode": {
    "name": "ipython",
    "version": 3
   },
   "pygments_lexer": "ipython3",
   "nbconvert_exporter": "python",
   "file_extension": ".py"
  },
  "kernelspec": {
   "name": "python3",
   "display_name": "Python 3.8.10 64-bit ('.venv': poetry)"
  },
  "interpreter": {
   "hash": "b6e9cd543eb3d489f861f1fd199b69c91e51133375e423accacd88bcc33c23ed"
  }
 },
 "nbformat": 4,
 "nbformat_minor": 2
}