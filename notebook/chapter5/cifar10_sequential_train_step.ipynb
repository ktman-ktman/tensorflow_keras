{
 "cells": [
  {
   "cell_type": "markdown",
   "source": [
    "# CIFAR10 with CNN\n",
    "\n",
    "training step版"
   ],
   "metadata": {}
  },
  {
   "cell_type": "code",
   "execution_count": 1,
   "source": [
    "import tensorflow as tf\n",
    "from common import make_cifar10_dataset\n",
    "from common import create_sequential_model\n",
    "import datetime\n",
    "\n",
    "%load_ext tensorboard\n",
    "\n",
    "BATCH_SIZE = 128\n",
    "EPOCHS = 5\n",
    "\n",
    "!rm -rf ./logs/"
   ],
   "outputs": [],
   "metadata": {}
  },
  {
   "cell_type": "code",
   "execution_count": 2,
   "source": [
    "train_ds, valid_ds, test_ds = make_cifar10_dataset(BATCH_SIZE)"
   ],
   "outputs": [
    {
     "output_type": "stream",
     "name": "stderr",
     "text": [
      "2021-09-05 03:23:14.921801: I tensorflow/stream_executor/cuda/cuda_gpu_executor.cc:923] could not open file to read NUMA node: /sys/bus/pci/devices/0000:01:00.0/numa_node\n",
      "Your kernel may have been built without NUMA support.\n",
      "2021-09-05 03:23:14.936824: I tensorflow/stream_executor/cuda/cuda_gpu_executor.cc:923] could not open file to read NUMA node: /sys/bus/pci/devices/0000:01:00.0/numa_node\n",
      "Your kernel may have been built without NUMA support.\n",
      "2021-09-05 03:23:14.938064: I tensorflow/stream_executor/cuda/cuda_gpu_executor.cc:923] could not open file to read NUMA node: /sys/bus/pci/devices/0000:01:00.0/numa_node\n",
      "Your kernel may have been built without NUMA support.\n",
      "2021-09-05 03:23:14.940034: I tensorflow/core/platform/cpu_feature_guard.cc:142] This TensorFlow binary is optimized with oneAPI Deep Neural Network Library (oneDNN) to use the following CPU instructions in performance-critical operations:  AVX2 AVX512F FMA\n",
      "To enable them in other operations, rebuild TensorFlow with the appropriate compiler flags.\n",
      "2021-09-05 03:23:14.941509: I tensorflow/stream_executor/cuda/cuda_gpu_executor.cc:923] could not open file to read NUMA node: /sys/bus/pci/devices/0000:01:00.0/numa_node\n",
      "Your kernel may have been built without NUMA support.\n",
      "2021-09-05 03:23:14.942527: I tensorflow/stream_executor/cuda/cuda_gpu_executor.cc:923] could not open file to read NUMA node: /sys/bus/pci/devices/0000:01:00.0/numa_node\n",
      "Your kernel may have been built without NUMA support.\n",
      "2021-09-05 03:23:14.943344: I tensorflow/stream_executor/cuda/cuda_gpu_executor.cc:923] could not open file to read NUMA node: /sys/bus/pci/devices/0000:01:00.0/numa_node\n",
      "Your kernel may have been built without NUMA support.\n",
      "2021-09-05 03:23:16.331921: I tensorflow/stream_executor/cuda/cuda_gpu_executor.cc:923] could not open file to read NUMA node: /sys/bus/pci/devices/0000:01:00.0/numa_node\n",
      "Your kernel may have been built without NUMA support.\n",
      "2021-09-05 03:23:16.332647: I tensorflow/stream_executor/cuda/cuda_gpu_executor.cc:923] could not open file to read NUMA node: /sys/bus/pci/devices/0000:01:00.0/numa_node\n",
      "Your kernel may have been built without NUMA support.\n",
      "2021-09-05 03:23:16.332910: I tensorflow/core/common_runtime/gpu/gpu_device.cc:1594] Could not identify NUMA node of platform GPU id 0, defaulting to 0.  Your kernel may not have been built with NUMA support.\n",
      "2021-09-05 03:23:16.333275: I tensorflow/stream_executor/cuda/cuda_gpu_executor.cc:923] could not open file to read NUMA node: /sys/bus/pci/devices/0000:01:00.0/numa_node\n",
      "Your kernel may have been built without NUMA support.\n",
      "2021-09-05 03:23:16.333563: W tensorflow/core/common_runtime/gpu/gpu_bfc_allocator.cc:39] Overriding allow_growth setting because the TF_FORCE_GPU_ALLOW_GROWTH environment variable is set. Original config value was 0.\n",
      "2021-09-05 03:23:16.333598: I tensorflow/core/common_runtime/gpu/gpu_device.cc:1510] Created device /job:localhost/replica:0/task:0/device:GPU:0 with 1303 MB memory:  -> device: 0, name: NVIDIA GeForce MX350, pci bus id: 0000:01:00.0, compute capability: 6.1\n",
      "2021-09-05 03:23:16.670669: W tensorflow/core/framework/cpu_allocator_impl.cc:80] Allocation of 122880000 exceeds 10% of free system memory.\n",
      "2021-09-05 03:23:16.929701: W tensorflow/core/framework/cpu_allocator_impl.cc:80] Allocation of 122880000 exceeds 10% of free system memory.\n"
     ]
    }
   ],
   "metadata": {}
  },
  {
   "cell_type": "code",
   "execution_count": 3,
   "source": [
    "model = create_sequential_model()"
   ],
   "outputs": [],
   "metadata": {}
  },
  {
   "cell_type": "code",
   "execution_count": 4,
   "source": [
    "loss_object = tf.keras.losses.SparseCategoricalCrossentropy()\n",
    "optimizer = tf.keras.optimizers.Adam()"
   ],
   "outputs": [],
   "metadata": {}
  },
  {
   "cell_type": "code",
   "execution_count": 5,
   "source": [
    "train_loss = tf.keras.metrics.Mean(\"train_loss\", dtype=tf.float32)\n",
    "train_accuracy = tf.keras.metrics.SparseCategoricalAccuracy(\"train_accuracy\", dtype=tf.float32)\n",
    "valid_loss = tf.keras.metrics.Mean(\"valid_loss\", dtype=tf.float32)\n",
    "valid_accuracy = tf.keras.metrics.SparseCategoricalAccuracy(\"valid_accuracy\", dtype=tf.float32)"
   ],
   "outputs": [],
   "metadata": {}
  },
  {
   "cell_type": "code",
   "execution_count": 6,
   "source": [
    "def train_step(model, optimizer, x_train, y_train):\n",
    "    with tf.GradientTape() as tape:\n",
    "        prediction = model(x_train, training=True)\n",
    "        loss = loss_object(y_train, prediction)\n",
    "\n",
    "    grads = tape.gradient(loss, model.trainable_variables)\n",
    "    optimizer.apply_gradients(zip(grads, model.trainable_variables))\n",
    "\n",
    "    train_loss(loss)\n",
    "    train_accuracy(y_train, prediction)\n",
    "\n",
    "def valid_step(model, x_valid, y_valid):\n",
    "    prediction = model(x_valid, training=False)\n",
    "    loss = loss_object(y_valid, prediction)\n",
    "\n",
    "    valid_loss(loss)\n",
    "    valid_accuracy(y_valid, prediction)\n"
   ],
   "outputs": [],
   "metadata": {}
  },
  {
   "cell_type": "code",
   "execution_count": 7,
   "source": [
    "current_time = datetime.datetime.now().strftime(\"%Y%m%d-%H%M%S\")\n",
    "train_log_dir = 'logs/gradient_tape/' + current_time + '/train'\n",
    "valid_log_dir = 'logs/gradient_tape/' + current_time + '/valid'\n",
    "train_summary_writer = tf.summary.create_file_writer(train_log_dir)\n",
    "valid_summary_writer = tf.summary.create_file_writer(valid_log_dir)"
   ],
   "outputs": [],
   "metadata": {}
  },
  {
   "cell_type": "code",
   "execution_count": 8,
   "source": [
    "for epoch in range(EPOCHS):\n",
    "    for x_train, y_train in train_ds:\n",
    "        train_step(model, optimizer, x_train, y_train)\n",
    "\n",
    "    with train_summary_writer.as_default():\n",
    "        tf.summary.scalar(\"loss\", train_loss.result(), step=epoch)\n",
    "        tf.summary.scalar(\"accuracy\", train_accuracy.result(), step=epoch)\n",
    "\n",
    "    for x_valid, y_valid in valid_ds:\n",
    "        valid_step(model, x_valid, y_valid)\n",
    "\n",
    "    with valid_summary_writer.as_default():\n",
    "        tf.summary.scalar(\"loss\", valid_loss.result(), step=epoch)\n",
    "        tf.summary.scalar(\"accuracy\", valid_accuracy.result(), step=epoch)\n",
    "\n",
    "    print(f\"Epoch {epoch}, Loss: {train_loss.result()}, Accuracy: {train_accuracy.result()}\")\n",
    "    print(f\"Epoch {epoch}, Valid Loss: {valid_loss.result()}, Valid Accuracy: {valid_accuracy.result()}\")\n",
    "\n",
    "    train_loss.reset_states()\n",
    "    train_accuracy.reset_states()\n",
    "    valid_loss.reset_states()\n",
    "    valid_accuracy.reset_states()"
   ],
   "outputs": [
    {
     "output_type": "stream",
     "name": "stderr",
     "text": [
      "2021-09-05 03:23:17.835206: W tensorflow/core/framework/cpu_allocator_impl.cc:80] Allocation of 122880000 exceeds 10% of free system memory.\n",
      "2021-09-05 03:23:17.889974: I tensorflow/compiler/mlir/mlir_graph_optimization_pass.cc:185] None of the MLIR Optimization Passes are enabled (registered 2)\n",
      "2021-09-05 03:23:19.442459: I tensorflow/stream_executor/cuda/cuda_dnn.cc:369] Loaded cuDNN version 8202\n"
     ]
    },
    {
     "output_type": "stream",
     "name": "stdout",
     "text": [
      "Epoch 0, Loss: 1.57429039478302, Accuracy: 0.42480000853538513\n",
      "Epoch 0, Valid Loss: 1.2390410900115967, Valid Accuracy: 0.5612999796867371\n"
     ]
    },
    {
     "output_type": "stream",
     "name": "stderr",
     "text": [
      "2021-09-05 03:23:52.450772: W tensorflow/core/framework/cpu_allocator_impl.cc:80] Allocation of 122880000 exceeds 10% of free system memory.\n"
     ]
    },
    {
     "output_type": "stream",
     "name": "stdout",
     "text": [
      "Epoch 1, Loss: 1.159473180770874, Accuracy: 0.588824987411499\n",
      "Epoch 1, Valid Loss: 1.0131794214248657, Valid Accuracy: 0.6432999968528748\n"
     ]
    },
    {
     "output_type": "stream",
     "name": "stderr",
     "text": [
      "2021-09-05 03:24:23.088248: W tensorflow/core/framework/cpu_allocator_impl.cc:80] Allocation of 122880000 exceeds 10% of free system memory.\n"
     ]
    },
    {
     "output_type": "stream",
     "name": "stdout",
     "text": [
      "Epoch 2, Loss: 0.9696264266967773, Accuracy: 0.6556249856948853\n",
      "Epoch 2, Valid Loss: 0.8653866648674011, Valid Accuracy: 0.6984999775886536\n",
      "Epoch 3, Loss: 0.8478372097015381, Accuracy: 0.7009750008583069\n",
      "Epoch 3, Valid Loss: 0.7813783288002014, Valid Accuracy: 0.7297000288963318\n",
      "Epoch 4, Loss: 0.7555318474769592, Accuracy: 0.7342749834060669\n",
      "Epoch 4, Valid Loss: 0.8133010864257812, Valid Accuracy: 0.7207000255584717\n"
     ]
    }
   ],
   "metadata": {}
  },
  {
   "cell_type": "code",
   "execution_count": 10,
   "source": [
    "for x_test, y_test in test_ds:\n",
    "    valid_step(model, x_test, y_test)\n",
    "\n",
    "\n",
    "print(f\"Test Loss: {valid_loss.result()}, Test Accuracy: {valid_accuracy.result()}\")\n",
    "valid_loss.reset_states()\n",
    "valid_accuracy.reset_states()"
   ],
   "outputs": [
    {
     "output_type": "stream",
     "name": "stdout",
     "text": [
      "Test Loss: 0.8318063020706177, Test Accuracy: 0.7110000252723694\n"
     ]
    }
   ],
   "metadata": {}
  },
  {
   "cell_type": "code",
   "execution_count": null,
   "source": [
    "%tensorboard --logdir logs/fit"
   ],
   "outputs": [
    {
     "output_type": "display_data",
     "data": {
      "text/html": [
       "\n",
       "      <iframe id=\"tensorboard-frame-d1b4b14c600e29bd\" width=\"100%\" height=\"800\" frameborder=\"0\">\n",
       "      </iframe>\n",
       "      <script>\n",
       "        (function() {\n",
       "          const frame = document.getElementById(\"tensorboard-frame-d1b4b14c600e29bd\");\n",
       "          const url = new URL(\"/\", window.location);\n",
       "          const port = 6006;\n",
       "          if (port) {\n",
       "            url.port = port;\n",
       "          }\n",
       "          frame.src = url;\n",
       "        })();\n",
       "      </script>\n",
       "    "
      ],
      "text/plain": [
       "<IPython.core.display.HTML object>"
      ]
     },
     "metadata": {}
    }
   ],
   "metadata": {}
  },
  {
   "cell_type": "code",
   "execution_count": null,
   "source": [],
   "outputs": [],
   "metadata": {}
  }
 ],
 "metadata": {
  "orig_nbformat": 4,
  "language_info": {
   "name": "python",
   "version": "3.8.10",
   "mimetype": "text/x-python",
   "codemirror_mode": {
    "name": "ipython",
    "version": 3
   },
   "pygments_lexer": "ipython3",
   "nbconvert_exporter": "python",
   "file_extension": ".py"
  },
  "kernelspec": {
   "name": "python3",
   "display_name": "Python 3.8.10 64-bit ('.venv': venv)"
  },
  "interpreter": {
   "hash": "b6e9cd543eb3d489f861f1fd199b69c91e51133375e423accacd88bcc33c23ed"
  }
 },
 "nbformat": 4,
 "nbformat_minor": 2
}