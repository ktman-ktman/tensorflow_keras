{
 "cells": [
  {
   "cell_type": "markdown",
   "source": [
    "# CIFAR10 with CNN"
   ],
   "metadata": {}
  },
  {
   "cell_type": "code",
   "execution_count": 2,
   "source": [
    "import tensorflow as tf\n",
    "from common import make_cifar10_dataset\n",
    "from common import SubclassModelCreator\n",
    "import datetime\n",
    "\n",
    "%load_ext tensorboard\n",
    "\n",
    "BATCH_SIZE = 128\n",
    "EPOCHS = 5\n",
    "\n",
    "!rm -rf ./logs/"
   ],
   "outputs": [],
   "metadata": {}
  },
  {
   "cell_type": "code",
   "execution_count": 3,
   "source": [
    "train_ds, valid_ds, test_ds = make_cifar10_dataset(BATCH_SIZE)"
   ],
   "outputs": [
    {
     "output_type": "stream",
     "name": "stderr",
     "text": [
      "2021-09-05 02:57:04.663132: I tensorflow/stream_executor/cuda/cuda_gpu_executor.cc:923] could not open file to read NUMA node: /sys/bus/pci/devices/0000:01:00.0/numa_node\n",
      "Your kernel may have been built without NUMA support.\n",
      "2021-09-05 02:57:04.739288: I tensorflow/stream_executor/cuda/cuda_gpu_executor.cc:923] could not open file to read NUMA node: /sys/bus/pci/devices/0000:01:00.0/numa_node\n",
      "Your kernel may have been built without NUMA support.\n",
      "2021-09-05 02:57:04.742384: I tensorflow/stream_executor/cuda/cuda_gpu_executor.cc:923] could not open file to read NUMA node: /sys/bus/pci/devices/0000:01:00.0/numa_node\n",
      "Your kernel may have been built without NUMA support.\n",
      "2021-09-05 02:57:04.745367: I tensorflow/core/platform/cpu_feature_guard.cc:142] This TensorFlow binary is optimized with oneAPI Deep Neural Network Library (oneDNN) to use the following CPU instructions in performance-critical operations:  AVX2 AVX512F FMA\n",
      "To enable them in other operations, rebuild TensorFlow with the appropriate compiler flags.\n",
      "2021-09-05 02:57:04.747273: I tensorflow/stream_executor/cuda/cuda_gpu_executor.cc:923] could not open file to read NUMA node: /sys/bus/pci/devices/0000:01:00.0/numa_node\n",
      "Your kernel may have been built without NUMA support.\n",
      "2021-09-05 02:57:04.748510: I tensorflow/stream_executor/cuda/cuda_gpu_executor.cc:923] could not open file to read NUMA node: /sys/bus/pci/devices/0000:01:00.0/numa_node\n",
      "Your kernel may have been built without NUMA support.\n",
      "2021-09-05 02:57:04.750034: I tensorflow/stream_executor/cuda/cuda_gpu_executor.cc:923] could not open file to read NUMA node: /sys/bus/pci/devices/0000:01:00.0/numa_node\n",
      "Your kernel may have been built without NUMA support.\n",
      "2021-09-05 02:57:07.349688: I tensorflow/stream_executor/cuda/cuda_gpu_executor.cc:923] could not open file to read NUMA node: /sys/bus/pci/devices/0000:01:00.0/numa_node\n",
      "Your kernel may have been built without NUMA support.\n",
      "2021-09-05 02:57:07.350720: I tensorflow/stream_executor/cuda/cuda_gpu_executor.cc:923] could not open file to read NUMA node: /sys/bus/pci/devices/0000:01:00.0/numa_node\n",
      "Your kernel may have been built without NUMA support.\n",
      "2021-09-05 02:57:07.351084: I tensorflow/core/common_runtime/gpu/gpu_device.cc:1594] Could not identify NUMA node of platform GPU id 0, defaulting to 0.  Your kernel may not have been built with NUMA support.\n",
      "2021-09-05 02:57:07.351628: I tensorflow/stream_executor/cuda/cuda_gpu_executor.cc:923] could not open file to read NUMA node: /sys/bus/pci/devices/0000:01:00.0/numa_node\n",
      "Your kernel may have been built without NUMA support.\n",
      "2021-09-05 02:57:07.351935: W tensorflow/core/common_runtime/gpu/gpu_bfc_allocator.cc:39] Overriding allow_growth setting because the TF_FORCE_GPU_ALLOW_GROWTH environment variable is set. Original config value was 0.\n",
      "2021-09-05 02:57:07.351981: I tensorflow/core/common_runtime/gpu/gpu_device.cc:1510] Created device /job:localhost/replica:0/task:0/device:GPU:0 with 1303 MB memory:  -> device: 0, name: NVIDIA GeForce MX350, pci bus id: 0000:01:00.0, compute capability: 6.1\n"
     ]
    }
   ],
   "metadata": {}
  },
  {
   "cell_type": "code",
   "execution_count": 4,
   "source": [
    "model = SubclassModelCreator()"
   ],
   "outputs": [],
   "metadata": {}
  },
  {
   "cell_type": "code",
   "execution_count": 5,
   "source": [
    "model.compile(\n",
    "    loss=\"sparse_categorical_crossentropy\",\n",
    "    optimizer=\"adam\",\n",
    "    metrics=[\"accuracy\"]\n",
    ")"
   ],
   "outputs": [],
   "metadata": {}
  },
  {
   "cell_type": "code",
   "execution_count": 6,
   "source": [
    "log_dir = \"logs/fit/\" + datetime.datetime.now().strftime(\"%Y%m%d-%H%M%S\")\n",
    "tensorboard_callback = tf.keras.callbacks.TensorBoard(log_dir=log_dir, histogram_freq=1)\n",
    "\n",
    "history = model.fit(train_ds, validation_data=valid_ds, epochs=EPOCHS, callbacks=[tensorboard_callback])"
   ],
   "outputs": [
    {
     "output_type": "stream",
     "name": "stderr",
     "text": [
      "2021-09-05 02:57:36.347283: I tensorflow/core/profiler/lib/profiler_session.cc:131] Profiler session initializing.\n",
      "2021-09-05 02:57:36.347354: I tensorflow/core/profiler/lib/profiler_session.cc:146] Profiler session started.\n",
      "2021-09-05 02:57:36.349127: I tensorflow/core/profiler/internal/gpu/cupti_tracer.cc:1614] Profiler found 1 GPUs\n",
      "2021-09-05 02:57:36.350259: W tensorflow/stream_executor/platform/default/dso_loader.cc:64] Could not load dynamic library 'libcupti.so.11.2'; dlerror: libcupti.so.11.2: cannot open shared object file: No such file or directory; LD_LIBRARY_PATH: /usr/local/nvidia/lib:/usr/local/nvidia/lib64\n",
      "2021-09-05 02:57:36.492149: E tensorflow/core/profiler/internal/gpu/cupti_tracer.cc:1666] function cupti_interface_->Subscribe( &subscriber_, (CUpti_CallbackFunc)ApiCallback, this)failed with error CUPTI_ERROR_NOT_INITIALIZED\n",
      "2021-09-05 02:57:36.492320: I tensorflow/core/profiler/lib/profiler_session.cc:164] Profiler session tear down.\n"
     ]
    },
    {
     "output_type": "stream",
     "name": "stdout",
     "text": [
      "Epoch 1/5\n"
     ]
    },
    {
     "output_type": "stream",
     "name": "stderr",
     "text": [
      "2021-09-05 02:57:37.770487: I tensorflow/compiler/mlir/mlir_graph_optimization_pass.cc:185] None of the MLIR Optimization Passes are enabled (registered 2)\n",
      "2021-09-05 02:57:40.781656: I tensorflow/stream_executor/cuda/cuda_dnn.cc:369] Loaded cuDNN version 8202\n"
     ]
    },
    {
     "output_type": "stream",
     "name": "stdout",
     "text": [
      "  2/313 [..............................] - ETA: 1:07 - loss: 2.3141 - accuracy: 0.1055 "
     ]
    },
    {
     "output_type": "stream",
     "name": "stderr",
     "text": [
      "2021-09-05 02:57:46.006468: I tensorflow/core/profiler/lib/profiler_session.cc:131] Profiler session initializing.\n",
      "2021-09-05 02:57:46.006549: I tensorflow/core/profiler/lib/profiler_session.cc:146] Profiler session started.\n",
      "2021-09-05 02:57:46.127252: E tensorflow/core/profiler/internal/gpu/cupti_tracer.cc:1666] function cupti_interface_->Subscribe( &subscriber_, (CUpti_CallbackFunc)ApiCallback, this)failed with error CUPTI_ERROR_NOT_INITIALIZED\n",
      "2021-09-05 02:57:46.199795: I tensorflow/core/profiler/lib/profiler_session.cc:66] Profiler session collecting data.\n",
      "2021-09-05 02:57:46.205650: I tensorflow/core/profiler/internal/gpu/cupti_collector.cc:673]  GpuTracer has collected 0 callback api events and 0 activity events. \n"
     ]
    },
    {
     "output_type": "stream",
     "name": "stdout",
     "text": [
      "  3/313 [..............................] - ETA: 55s - loss: 2.3016 - accuracy: 0.1042 "
     ]
    },
    {
     "output_type": "stream",
     "name": "stderr",
     "text": [
      "2021-09-05 02:57:46.208787: I tensorflow/core/profiler/lib/profiler_session.cc:164] Profiler session tear down.\n",
      "2021-09-05 02:57:46.223993: I tensorflow/core/profiler/rpc/client/save_profile.cc:136] Creating directory: logs/fit/20210905-025736/train/plugins/profile/2021_09_05_02_57_46\n",
      "\n",
      "2021-09-05 02:57:46.230246: I tensorflow/core/profiler/rpc/client/save_profile.cc:142] Dumped gzipped tool data for trace.json.gz to logs/fit/20210905-025736/train/plugins/profile/2021_09_05_02_57_46/dcbc19f242dd.trace.json.gz\n",
      "2021-09-05 02:57:46.248087: I tensorflow/core/profiler/rpc/client/save_profile.cc:136] Creating directory: logs/fit/20210905-025736/train/plugins/profile/2021_09_05_02_57_46\n",
      "\n",
      "2021-09-05 02:57:46.250136: I tensorflow/core/profiler/rpc/client/save_profile.cc:142] Dumped gzipped tool data for memory_profile.json.gz to logs/fit/20210905-025736/train/plugins/profile/2021_09_05_02_57_46/dcbc19f242dd.memory_profile.json.gz\n",
      "2021-09-05 02:57:46.250455: I tensorflow/core/profiler/rpc/client/capture_profile.cc:251] Creating directory: logs/fit/20210905-025736/train/plugins/profile/2021_09_05_02_57_46\n",
      "Dumped tool data for xplane.pb to logs/fit/20210905-025736/train/plugins/profile/2021_09_05_02_57_46/dcbc19f242dd.xplane.pb\n",
      "Dumped tool data for overview_page.pb to logs/fit/20210905-025736/train/plugins/profile/2021_09_05_02_57_46/dcbc19f242dd.overview_page.pb\n",
      "Dumped tool data for input_pipeline.pb to logs/fit/20210905-025736/train/plugins/profile/2021_09_05_02_57_46/dcbc19f242dd.input_pipeline.pb\n",
      "Dumped tool data for tensorflow_stats.pb to logs/fit/20210905-025736/train/plugins/profile/2021_09_05_02_57_46/dcbc19f242dd.tensorflow_stats.pb\n",
      "Dumped tool data for kernel_stats.pb to logs/fit/20210905-025736/train/plugins/profile/2021_09_05_02_57_46/dcbc19f242dd.kernel_stats.pb\n",
      "\n"
     ]
    },
    {
     "output_type": "stream",
     "name": "stdout",
     "text": [
      "313/313 [==============================] - 27s 60ms/step - loss: 1.6019 - accuracy: 0.4130 - val_loss: 1.2635 - val_accuracy: 0.5546\n"
     ]
    },
    {
     "output_type": "stream",
     "name": "stderr",
     "text": [
      "2021-09-05 02:58:04.795409: W tensorflow/core/framework/cpu_allocator_impl.cc:80] Allocation of 251658240 exceeds 10% of free system memory.\n"
     ]
    },
    {
     "output_type": "stream",
     "name": "stdout",
     "text": [
      "Epoch 2/5\n",
      "313/313 [==============================] - 20s 62ms/step - loss: 1.1987 - accuracy: 0.5724 - val_loss: 1.0582 - val_accuracy: 0.6320\n"
     ]
    },
    {
     "output_type": "stream",
     "name": "stderr",
     "text": [
      "2021-09-05 02:58:25.221054: W tensorflow/core/framework/cpu_allocator_impl.cc:80] Allocation of 251658240 exceeds 10% of free system memory.\n"
     ]
    },
    {
     "output_type": "stream",
     "name": "stdout",
     "text": [
      "Epoch 3/5\n",
      "313/313 [==============================] - 22s 70ms/step - loss: 1.0004 - accuracy: 0.6453 - val_loss: 0.9196 - val_accuracy: 0.6718\n"
     ]
    },
    {
     "output_type": "stream",
     "name": "stderr",
     "text": [
      "2021-09-05 02:58:47.947091: W tensorflow/core/framework/cpu_allocator_impl.cc:80] Allocation of 251658240 exceeds 10% of free system memory.\n"
     ]
    },
    {
     "output_type": "stream",
     "name": "stdout",
     "text": [
      "Epoch 4/5\n",
      "313/313 [==============================] - 25s 78ms/step - loss: 0.8741 - accuracy: 0.6913 - val_loss: 0.8044 - val_accuracy: 0.7185\n"
     ]
    },
    {
     "output_type": "stream",
     "name": "stderr",
     "text": [
      "2021-09-05 02:59:13.023368: W tensorflow/core/framework/cpu_allocator_impl.cc:80] Allocation of 251658240 exceeds 10% of free system memory.\n"
     ]
    },
    {
     "output_type": "stream",
     "name": "stdout",
     "text": [
      "Epoch 5/5\n",
      "313/313 [==============================] - 30s 94ms/step - loss: 0.7782 - accuracy: 0.7263 - val_loss: 0.7692 - val_accuracy: 0.7340\n"
     ]
    },
    {
     "output_type": "stream",
     "name": "stderr",
     "text": [
      "2021-09-05 02:59:43.204577: W tensorflow/core/framework/cpu_allocator_impl.cc:80] Allocation of 251658240 exceeds 10% of free system memory.\n"
     ]
    }
   ],
   "metadata": {}
  },
  {
   "cell_type": "code",
   "execution_count": 7,
   "source": [
    "model.evaluate(test_ds)"
   ],
   "outputs": [
    {
     "output_type": "stream",
     "name": "stdout",
     "text": [
      "79/79 [==============================] - 2s 19ms/step - loss: 0.7889 - accuracy: 0.7269\n"
     ]
    },
    {
     "output_type": "execute_result",
     "data": {
      "text/plain": [
       "[0.7888875007629395, 0.7268999814987183]"
      ]
     },
     "metadata": {},
     "execution_count": 7
    }
   ],
   "metadata": {}
  },
  {
   "cell_type": "code",
   "execution_count": 9,
   "source": [
    "%tensorboard --logdir logs/fit"
   ],
   "outputs": [
    {
     "output_type": "display_data",
     "data": {
      "text/plain": [
       "Reusing TensorBoard on port 6006 (pid 4902), started 1 day, 0:26:42 ago. (Use '!kill 4902' to kill it.)"
      ]
     },
     "metadata": {}
    },
    {
     "output_type": "display_data",
     "data": {
      "text/html": [
       "\n",
       "      <iframe id=\"tensorboard-frame-8d78dc47ff87d965\" width=\"100%\" height=\"800\" frameborder=\"0\">\n",
       "      </iframe>\n",
       "      <script>\n",
       "        (function() {\n",
       "          const frame = document.getElementById(\"tensorboard-frame-8d78dc47ff87d965\");\n",
       "          const url = new URL(\"http://localhost\");\n",
       "          const port = 6006;\n",
       "          if (port) {\n",
       "            url.port = port;\n",
       "          }\n",
       "          frame.src = url;\n",
       "        })();\n",
       "      </script>\n",
       "    "
      ],
      "text/plain": [
       "<IPython.core.display.HTML object>"
      ]
     },
     "metadata": {}
    }
   ],
   "metadata": {}
  },
  {
   "cell_type": "code",
   "execution_count": null,
   "source": [],
   "outputs": [],
   "metadata": {}
  }
 ],
 "metadata": {
  "orig_nbformat": 4,
  "language_info": {
   "name": "python",
   "version": "3.8.10",
   "mimetype": "text/x-python",
   "codemirror_mode": {
    "name": "ipython",
    "version": 3
   },
   "pygments_lexer": "ipython3",
   "nbconvert_exporter": "python",
   "file_extension": ".py"
  },
  "kernelspec": {
   "name": "python3",
   "display_name": "Python 3.8.10 64-bit ('.venv': venv)"
  },
  "interpreter": {
   "hash": "b6e9cd543eb3d489f861f1fd199b69c91e51133375e423accacd88bcc33c23ed"
  }
 },
 "nbformat": 4,
 "nbformat_minor": 2
}