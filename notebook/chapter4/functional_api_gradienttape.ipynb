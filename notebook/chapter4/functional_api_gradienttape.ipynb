{
 "cells": [
  {
   "cell_type": "markdown",
   "source": [
    "# Functional api"
   ],
   "metadata": {}
  },
  {
   "cell_type": "code",
   "execution_count": 1,
   "source": [
    "import tensorflow as tf\n",
    "import datetime\n",
    "from common import create_dataset, create_functional_api_model\n",
    "from custom_training import train_and_test\n",
    "\n",
    "%load_ext tensorboard"
   ],
   "outputs": [],
   "metadata": {}
  },
  {
   "cell_type": "code",
   "execution_count": 2,
   "source": [
    "gpus = tf.config.experimental.list_physical_devices('GPU')\n",
    "if gpus:\n",
    "  try:\n",
    "    # Currently, memory growth needs to be the same across GPUs\n",
    "    for gpu in gpus:\n",
    "      tf.config.experimental.set_memory_growth(gpu, True)\n",
    "    logical_gpus = tf.config.experimental.list_logical_devices('GPU')\n",
    "    print(len(gpus), \"Physical GPUs,\", len(logical_gpus), \"Logical GPUs\")\n",
    "  except RuntimeError as e:\n",
    "    # Memory growth must be set before GPUs have been initialized\n",
    "    print(e)"
   ],
   "outputs": [
    {
     "output_type": "stream",
     "name": "stdout",
     "text": [
      "1 Physical GPUs, 1 Logical GPUs\n"
     ]
    },
    {
     "output_type": "stream",
     "name": "stderr",
     "text": [
      "2021-08-30 09:44:44.324100: I tensorflow/stream_executor/cuda/cuda_gpu_executor.cc:923] could not open file to read NUMA node: /sys/bus/pci/devices/0000:01:00.0/numa_node\n",
      "Your kernel may have been built without NUMA support.\n",
      "2021-08-30 09:44:44.345697: I tensorflow/stream_executor/cuda/cuda_gpu_executor.cc:923] could not open file to read NUMA node: /sys/bus/pci/devices/0000:01:00.0/numa_node\n",
      "Your kernel may have been built without NUMA support.\n",
      "2021-08-30 09:44:44.346733: I tensorflow/stream_executor/cuda/cuda_gpu_executor.cc:923] could not open file to read NUMA node: /sys/bus/pci/devices/0000:01:00.0/numa_node\n",
      "Your kernel may have been built without NUMA support.\n",
      "2021-08-30 09:44:44.347923: I tensorflow/core/platform/cpu_feature_guard.cc:142] This TensorFlow binary is optimized with oneAPI Deep Neural Network Library (oneDNN) to use the following CPU instructions in performance-critical operations:  AVX2 AVX512F FMA\n",
      "To enable them in other operations, rebuild TensorFlow with the appropriate compiler flags.\n",
      "2021-08-30 09:44:44.350060: I tensorflow/stream_executor/cuda/cuda_gpu_executor.cc:923] could not open file to read NUMA node: /sys/bus/pci/devices/0000:01:00.0/numa_node\n",
      "Your kernel may have been built without NUMA support.\n",
      "2021-08-30 09:44:44.351158: I tensorflow/stream_executor/cuda/cuda_gpu_executor.cc:923] could not open file to read NUMA node: /sys/bus/pci/devices/0000:01:00.0/numa_node\n",
      "Your kernel may have been built without NUMA support.\n",
      "2021-08-30 09:44:44.352335: I tensorflow/stream_executor/cuda/cuda_gpu_executor.cc:923] could not open file to read NUMA node: /sys/bus/pci/devices/0000:01:00.0/numa_node\n",
      "Your kernel may have been built without NUMA support.\n",
      "2021-08-30 09:44:45.659107: I tensorflow/stream_executor/cuda/cuda_gpu_executor.cc:923] could not open file to read NUMA node: /sys/bus/pci/devices/0000:01:00.0/numa_node\n",
      "Your kernel may have been built without NUMA support.\n",
      "2021-08-30 09:44:45.659959: I tensorflow/stream_executor/cuda/cuda_gpu_executor.cc:923] could not open file to read NUMA node: /sys/bus/pci/devices/0000:01:00.0/numa_node\n",
      "Your kernel may have been built without NUMA support.\n",
      "2021-08-30 09:44:45.660202: I tensorflow/core/common_runtime/gpu/gpu_device.cc:1594] Could not identify NUMA node of platform GPU id 0, defaulting to 0.  Your kernel may not have been built with NUMA support.\n",
      "2021-08-30 09:44:45.660728: I tensorflow/stream_executor/cuda/cuda_gpu_executor.cc:923] could not open file to read NUMA node: /sys/bus/pci/devices/0000:01:00.0/numa_node\n",
      "Your kernel may have been built without NUMA support.\n",
      "2021-08-30 09:44:45.661083: I tensorflow/core/common_runtime/gpu/gpu_device.cc:1510] Created device /job:localhost/replica:0/task:0/device:GPU:0 with 1303 MB memory:  -> device: 0, name: NVIDIA GeForce MX350, pci bus id: 0000:01:00.0, compute capability: 6.1\n"
     ]
    }
   ],
   "metadata": {}
  },
  {
   "cell_type": "markdown",
   "source": [
    "## データ取得"
   ],
   "metadata": {}
  },
  {
   "cell_type": "code",
   "execution_count": 3,
   "source": [
    "train_ds, valid_ds, test_ds = create_dataset(512, 0.2)"
   ],
   "outputs": [
    {
     "output_type": "stream",
     "name": "stderr",
     "text": [
      "2021-08-30 09:44:46.097042: W tensorflow/core/framework/cpu_allocator_impl.cc:80] Allocation of 37632000 exceeds 10% of free system memory.\n",
      "2021-08-30 09:44:46.148435: W tensorflow/core/framework/cpu_allocator_impl.cc:80] Allocation of 37632000 exceeds 10% of free system memory.\n"
     ]
    }
   ],
   "metadata": {}
  },
  {
   "cell_type": "markdown",
   "source": [
    "## 学習"
   ],
   "metadata": {}
  },
  {
   "cell_type": "code",
   "execution_count": 4,
   "source": [
    "model = create_functional_api_model()\n",
    "model.summary()"
   ],
   "outputs": [
    {
     "output_type": "stream",
     "name": "stdout",
     "text": [
      "Model: \"model\"\n",
      "_________________________________________________________________\n",
      "Layer (type)                 Output Shape              Param #   \n",
      "=================================================================\n",
      "input_1 (InputLayer)         [(None, 784)]             0         \n",
      "_________________________________________________________________\n",
      "dense (Dense)                (None, 64)                50240     \n",
      "_________________________________________________________________\n",
      "dense_1 (Dense)              (None, 10)                650       \n",
      "=================================================================\n",
      "Total params: 50,890\n",
      "Trainable params: 50,890\n",
      "Non-trainable params: 0\n",
      "_________________________________________________________________\n"
     ]
    }
   ],
   "metadata": {}
  },
  {
   "cell_type": "code",
   "execution_count": 5,
   "source": [
    "tf.keras.utils.plot_model(model, \"functional_api_model.png\", show_shapes=True)"
   ],
   "outputs": [
    {
     "output_type": "execute_result",
     "data": {
      "image/png": "[encoded data removed]",
      "text/plain": [
       "<IPython.core.display.Image object>"
      ]
     },
     "metadata": {},
     "execution_count": 5
    }
   ],
   "metadata": {}
  },
  {
   "cell_type": "code",
   "execution_count": 6,
   "source": [
    "model.compile(\n",
    "    loss=\"sparse_categorical_crossentropy\",\n",
    "    optimizer=\"adam\",\n",
    "    metrics=[\"accuracy\"]\n",
    ")"
   ],
   "outputs": [],
   "metadata": {}
  },
  {
   "cell_type": "code",
   "execution_count": 7,
   "source": [
    "log_dir = \"logs/fit/\" + datetime.datetime.now().strftime(\"%Y%m%d-%H%M%S\")\n",
    "tensorboard_callback = tf.keras.callbacks.TensorBoard(log_dir=log_dir, histogram_freq=1)"
   ],
   "outputs": [
    {
     "output_type": "stream",
     "name": "stderr",
     "text": [
      "2021-08-30 09:44:46.668584: I tensorflow/core/profiler/lib/profiler_session.cc:131] Profiler session initializing.\n",
      "2021-08-30 09:44:46.668655: I tensorflow/core/profiler/lib/profiler_session.cc:146] Profiler session started.\n",
      "2021-08-30 09:44:46.668701: I tensorflow/core/profiler/internal/gpu/cupti_tracer.cc:1614] Profiler found 1 GPUs\n",
      "2021-08-30 09:44:46.669365: W tensorflow/stream_executor/platform/default/dso_loader.cc:64] Could not load dynamic library 'libcupti.so.11.2'; dlerror: libcupti.so.11.2: cannot open shared object file: No such file or directory; LD_LIBRARY_PATH: /usr/local/nvidia/lib:/usr/local/nvidia/lib64\n",
      "2021-08-30 09:44:46.684749: E tensorflow/core/profiler/internal/gpu/cupti_tracer.cc:1666] function cupti_interface_->Subscribe( &subscriber_, (CUpti_CallbackFunc)ApiCallback, this)failed with error CUPTI_ERROR_NOT_INITIALIZED\n",
      "2021-08-30 09:44:46.684929: I tensorflow/core/profiler/lib/profiler_session.cc:164] Profiler session tear down.\n"
     ]
    }
   ],
   "metadata": {}
  },
  {
   "cell_type": "code",
   "execution_count": 8,
   "source": [
    "loss_object = tf.keras.losses.SparseCategoricalCrossentropy()\n",
    "optimizer = tf.keras.optimizers.Adam()"
   ],
   "outputs": [],
   "metadata": {}
  },
  {
   "cell_type": "code",
   "execution_count": 9,
   "source": [
    "# Define our metrics\n",
    "train_loss = tf.keras.metrics.Mean('train_loss', dtype=tf.float32)\n",
    "train_accuracy = tf.keras.metrics.SparseCategoricalAccuracy('train_accuracy')\n",
    "valid_loss = tf.keras.metrics.Mean('valid_loss', dtype=tf.float32)\n",
    "valid_accuracy = tf.keras.metrics.SparseCategoricalAccuracy('valid_accuracy')"
   ],
   "outputs": [],
   "metadata": {}
  },
  {
   "cell_type": "code",
   "execution_count": 10,
   "source": [
    "current_time = datetime.datetime.now().strftime(\"%Y%m%d-%H%M%S\")\n",
    "train_log_dir = 'logs/gradient_tape/' + current_time + '/train'\n",
    "valid_log_dir = 'logs/gradient_tape/' + current_time + '/valid'\n",
    "train_summary_writer = tf.summary.create_file_writer(train_log_dir)\n",
    "valid_summary_writer = tf.summary.create_file_writer(valid_log_dir)"
   ],
   "outputs": [],
   "metadata": {}
  },
  {
   "cell_type": "code",
   "execution_count": 11,
   "source": [
    "train_and_test(model, loss_object, optimizer, train_ds, valid_ds, 20, train_loss, valid_loss, train_accuracy, valid_accuracy, train_summary_writer, valid_summary_writer)"
   ],
   "outputs": [
    {
     "output_type": "stream",
     "name": "stderr",
     "text": [
      "2021-08-30 09:44:46.890794: W tensorflow/core/framework/cpu_allocator_impl.cc:80] Allocation of 37632000 exceeds 10% of free system memory.\n",
      "2021-08-30 09:44:46.909716: I tensorflow/compiler/mlir/mlir_graph_optimization_pass.cc:185] None of the MLIR Optimization Passes are enabled (registered 2)\n"
     ]
    },
    {
     "output_type": "stream",
     "name": "stdout",
     "text": [
      "Epoch 1, Loss: 0.7769182920455933, Accuracy: 0.7976250052452087, Test Loss: 0.33806896209716797, Test Accuracy: 0.9070833325386047\n"
     ]
    },
    {
     "output_type": "stream",
     "name": "stderr",
     "text": [
      "2021-08-30 09:44:52.426462: W tensorflow/core/framework/cpu_allocator_impl.cc:80] Allocation of 37632000 exceeds 10% of free system memory.\n"
     ]
    },
    {
     "output_type": "stream",
     "name": "stdout",
     "text": [
      "Epoch 2, Loss: 0.5447055101394653, Accuracy: 0.8556874990463257, Test Loss: 0.29963600635528564, Test Accuracy: 0.9169166684150696\n"
     ]
    },
    {
     "output_type": "stream",
     "name": "stderr",
     "text": [
      "2021-08-30 09:44:55.430467: W tensorflow/core/framework/cpu_allocator_impl.cc:80] Allocation of 37632000 exceeds 10% of free system memory.\n"
     ]
    },
    {
     "output_type": "stream",
     "name": "stdout",
     "text": [
      "Epoch 3, Loss: 0.44733548164367676, Accuracy: 0.8803402781486511, Test Loss: 0.2745760679244995, Test Accuracy: 0.9240833520889282\n",
      "Epoch 4, Loss: 0.3903457224369049, Accuracy: 0.8949166536331177, Test Loss: 0.25622808933258057, Test Accuracy: 0.9291458129882812\n",
      "Epoch 5, Loss: 0.3511834144592285, Accuracy: 0.905037522315979, Test Loss: 0.24231071770191193, Test Accuracy: 0.9330333471298218\n",
      "Epoch 6, Loss: 0.3217426836490631, Accuracy: 0.9127326607704163, Test Loss: 0.23077042400836945, Test Accuracy: 0.9361666440963745\n",
      "Epoch 7, Loss: 0.29840362071990967, Accuracy: 0.9188988208770752, Test Loss: 0.22119976580142975, Test Accuracy: 0.9387142658233643\n",
      "Epoch 8, Loss: 0.2791912853717804, Accuracy: 0.9240573048591614, Test Loss: 0.2127503603696823, Test Accuracy: 0.9409895539283752\n",
      "Epoch 9, Loss: 0.26310795545578003, Accuracy: 0.9283124804496765, Test Loss: 0.20549754798412323, Test Accuracy: 0.9429259300231934\n",
      "Epoch 10, Loss: 0.24916456639766693, Accuracy: 0.9320208430290222, Test Loss: 0.19901789724826813, Test Accuracy: 0.9446333050727844\n",
      "Epoch 11, Loss: 0.23694472014904022, Accuracy: 0.9352935552597046, Test Loss: 0.1931288093328476, Test Accuracy: 0.9461363554000854\n",
      "Epoch 12, Loss: 0.2260885238647461, Accuracy: 0.9382222294807434, Test Loss: 0.18802444636821747, Test Accuracy: 0.9474722146987915\n",
      "Epoch 13, Loss: 0.21640750765800476, Accuracy: 0.9407884478569031, Test Loss: 0.18357549607753754, Test Accuracy: 0.9485833048820496\n",
      "Epoch 14, Loss: 0.20762485265731812, Accuracy: 0.9431696534156799, Test Loss: 0.17933155596256256, Test Accuracy: 0.9496368765830994\n",
      "Epoch 15, Loss: 0.19963522255420685, Accuracy: 0.9453083276748657, Test Loss: 0.17534902691841125, Test Accuracy: 0.9506222009658813\n",
      "Epoch 16, Loss: 0.19229961931705475, Accuracy: 0.9473150968551636, Test Loss: 0.1719372272491455, Test Accuracy: 0.9514948129653931\n",
      "Epoch 17, Loss: 0.1855754852294922, Accuracy: 0.9491482973098755, Test Loss: 0.16862918436527252, Test Accuracy: 0.9522989988327026\n",
      "Epoch 18, Loss: 0.17935889959335327, Accuracy: 0.9508183002471924, Test Loss: 0.1655062586069107, Test Accuracy: 0.9530879855155945\n",
      "Epoch 19, Loss: 0.17355233430862427, Accuracy: 0.9524166584014893, Test Loss: 0.16267883777618408, Test Accuracy: 0.9538201689720154\n",
      "Epoch 20, Loss: 0.16818870604038239, Accuracy: 0.953892707824707, Test Loss: 0.16002534329891205, Test Accuracy: 0.9545083045959473\n"
     ]
    }
   ],
   "metadata": {}
  },
  {
   "cell_type": "code",
   "execution_count": 12,
   "source": [
    "model.evaluate(test_ds)"
   ],
   "outputs": [
    {
     "output_type": "stream",
     "name": "stdout",
     "text": [
      "20/20 [==============================] - 0s 11ms/step - loss: 0.1029 - accuracy: 0.9696\n"
     ]
    },
    {
     "output_type": "execute_result",
     "data": {
      "text/plain": [
       "[0.1029282733798027, 0.9696000218391418]"
      ]
     },
     "metadata": {},
     "execution_count": 12
    }
   ],
   "metadata": {}
  },
  {
   "cell_type": "code",
   "execution_count": 13,
   "source": [
    "%tensorboard --logdir logs/fit"
   ],
   "outputs": [
    {
     "output_type": "display_data",
     "data": {
      "text/plain": [
       "Reusing TensorBoard on port 6006 (pid 4037), started 0:23:45 ago. (Use '!kill 4037' to kill it.)"
      ]
     },
     "metadata": {}
    },
    {
     "output_type": "display_data",
     "data": {
      "text/html": [
       "\n",
       "      <iframe id=\"tensorboard-frame-96b7ceb25e5b81c2\" width=\"100%\" height=\"800\" frameborder=\"0\">\n",
       "      </iframe>\n",
       "      <script>\n",
       "        (function() {\n",
       "          const frame = document.getElementById(\"tensorboard-frame-96b7ceb25e5b81c2\");\n",
       "          const url = new URL(\"http://localhost\");\n",
       "          const port = 6006;\n",
       "          if (port) {\n",
       "            url.port = port;\n",
       "          }\n",
       "          frame.src = url;\n",
       "        })();\n",
       "      </script>\n",
       "    "
      ],
      "text/plain": [
       "<IPython.core.display.HTML object>"
      ]
     },
     "metadata": {}
    }
   ],
   "metadata": {}
  },
  {
   "cell_type": "code",
   "execution_count": null,
   "source": [],
   "outputs": [],
   "metadata": {}
  }
 ],
 "metadata": {
  "orig_nbformat": 4,
  "language_info": {
   "name": "python",
   "version": "3.8.10",
   "mimetype": "text/x-python",
   "codemirror_mode": {
    "name": "ipython",
    "version": 3
   },
   "pygments_lexer": "ipython3",
   "nbconvert_exporter": "python",
   "file_extension": ".py"
  },
  "kernelspec": {
   "name": "python3",
   "display_name": "Python 3.8.10 64-bit ('.venv': poetry)"
  },
  "interpreter": {
   "hash": "b6e9cd543eb3d489f861f1fd199b69c91e51133375e423accacd88bcc33c23ed"
  }
 },
 "nbformat": 4,
 "nbformat_minor": 2
}