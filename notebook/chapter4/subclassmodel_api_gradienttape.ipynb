{
 "cells": [
  {
   "cell_type": "markdown",
   "source": [
    "# Subclass model api"
   ],
   "metadata": {}
  },
  {
   "cell_type": "code",
   "execution_count": 1,
   "source": [
    "import tensorflow as tf\n",
    "import datetime\n",
    "from common import create_dataset, SubclassModel\n",
    "from custom_training import train_and_test\n",
    "\n",
    "%load_ext tensorboard"
   ],
   "outputs": [],
   "metadata": {}
  },
  {
   "cell_type": "code",
   "execution_count": 2,
   "source": [
    "gpus = tf.config.experimental.list_physical_devices('GPU')\n",
    "if gpus:\n",
    "  try:\n",
    "    # Currently, memory growth needs to be the same across GPUs\n",
    "    for gpu in gpus:\n",
    "      tf.config.experimental.set_memory_growth(gpu, True)\n",
    "    logical_gpus = tf.config.experimental.list_logical_devices('GPU')\n",
    "    print(len(gpus), \"Physical GPUs,\", len(logical_gpus), \"Logical GPUs\")\n",
    "  except RuntimeError as e:\n",
    "    # Memory growth must be set before GPUs have been initialized\n",
    "    print(e)"
   ],
   "outputs": [
    {
     "output_type": "stream",
     "name": "stdout",
     "text": [
      "1 Physical GPUs, 1 Logical GPUs\n"
     ]
    },
    {
     "output_type": "stream",
     "name": "stderr",
     "text": [
      "2021-08-30 09:50:04.132592: I tensorflow/stream_executor/cuda/cuda_gpu_executor.cc:923] could not open file to read NUMA node: /sys/bus/pci/devices/0000:01:00.0/numa_node\n",
      "Your kernel may have been built without NUMA support.\n",
      "2021-08-30 09:50:04.145223: I tensorflow/stream_executor/cuda/cuda_gpu_executor.cc:923] could not open file to read NUMA node: /sys/bus/pci/devices/0000:01:00.0/numa_node\n",
      "Your kernel may have been built without NUMA support.\n",
      "2021-08-30 09:50:04.146384: I tensorflow/stream_executor/cuda/cuda_gpu_executor.cc:923] could not open file to read NUMA node: /sys/bus/pci/devices/0000:01:00.0/numa_node\n",
      "Your kernel may have been built without NUMA support.\n",
      "2021-08-30 09:50:04.148240: I tensorflow/core/platform/cpu_feature_guard.cc:142] This TensorFlow binary is optimized with oneAPI Deep Neural Network Library (oneDNN) to use the following CPU instructions in performance-critical operations:  AVX2 AVX512F FMA\n",
      "To enable them in other operations, rebuild TensorFlow with the appropriate compiler flags.\n",
      "2021-08-30 09:50:04.149832: I tensorflow/stream_executor/cuda/cuda_gpu_executor.cc:923] could not open file to read NUMA node: /sys/bus/pci/devices/0000:01:00.0/numa_node\n",
      "Your kernel may have been built without NUMA support.\n",
      "2021-08-30 09:50:04.151403: I tensorflow/stream_executor/cuda/cuda_gpu_executor.cc:923] could not open file to read NUMA node: /sys/bus/pci/devices/0000:01:00.0/numa_node\n",
      "Your kernel may have been built without NUMA support.\n",
      "2021-08-30 09:50:04.152657: I tensorflow/stream_executor/cuda/cuda_gpu_executor.cc:923] could not open file to read NUMA node: /sys/bus/pci/devices/0000:01:00.0/numa_node\n",
      "Your kernel may have been built without NUMA support.\n",
      "2021-08-30 09:50:05.672035: I tensorflow/stream_executor/cuda/cuda_gpu_executor.cc:923] could not open file to read NUMA node: /sys/bus/pci/devices/0000:01:00.0/numa_node\n",
      "Your kernel may have been built without NUMA support.\n",
      "2021-08-30 09:50:05.673595: I tensorflow/stream_executor/cuda/cuda_gpu_executor.cc:923] could not open file to read NUMA node: /sys/bus/pci/devices/0000:01:00.0/numa_node\n",
      "Your kernel may have been built without NUMA support.\n",
      "2021-08-30 09:50:05.674218: I tensorflow/core/common_runtime/gpu/gpu_device.cc:1594] Could not identify NUMA node of platform GPU id 0, defaulting to 0.  Your kernel may not have been built with NUMA support.\n",
      "2021-08-30 09:50:05.675076: I tensorflow/stream_executor/cuda/cuda_gpu_executor.cc:923] could not open file to read NUMA node: /sys/bus/pci/devices/0000:01:00.0/numa_node\n",
      "Your kernel may have been built without NUMA support.\n",
      "2021-08-30 09:50:05.675765: I tensorflow/core/common_runtime/gpu/gpu_device.cc:1510] Created device /job:localhost/replica:0/task:0/device:GPU:0 with 1303 MB memory:  -> device: 0, name: NVIDIA GeForce MX350, pci bus id: 0000:01:00.0, compute capability: 6.1\n"
     ]
    }
   ],
   "metadata": {}
  },
  {
   "cell_type": "markdown",
   "source": [
    "## データ取得"
   ],
   "metadata": {}
  },
  {
   "cell_type": "code",
   "execution_count": 3,
   "source": [
    "train_ds, valid_ds, test_ds = create_dataset(512, 0.2)"
   ],
   "outputs": [
    {
     "output_type": "stream",
     "name": "stderr",
     "text": [
      "2021-08-30 09:50:06.312202: W tensorflow/core/framework/cpu_allocator_impl.cc:80] Allocation of 37632000 exceeds 10% of free system memory.\n",
      "2021-08-30 09:50:06.405305: W tensorflow/core/framework/cpu_allocator_impl.cc:80] Allocation of 37632000 exceeds 10% of free system memory.\n"
     ]
    }
   ],
   "metadata": {}
  },
  {
   "cell_type": "markdown",
   "source": [
    "## 学習"
   ],
   "metadata": {}
  },
  {
   "cell_type": "code",
   "execution_count": 4,
   "source": [
    "model = SubclassModel()"
   ],
   "outputs": [],
   "metadata": {}
  },
  {
   "cell_type": "code",
   "execution_count": 5,
   "source": [
    "model.compile(\n",
    "    loss=\"sparse_categorical_crossentropy\",\n",
    "    optimizer=\"adam\",\n",
    "    metrics=[\"accuracy\"]\n",
    ")"
   ],
   "outputs": [],
   "metadata": {}
  },
  {
   "cell_type": "code",
   "execution_count": 6,
   "source": [
    "log_dir = \"logs/fit/\" + datetime.datetime.now().strftime(\"%Y%m%d-%H%M%S\")\n",
    "tensorboard_callback = tf.keras.callbacks.TensorBoard(log_dir=log_dir, histogram_freq=1)"
   ],
   "outputs": [
    {
     "output_type": "stream",
     "name": "stderr",
     "text": [
      "2021-08-30 09:50:06.703700: I tensorflow/core/profiler/lib/profiler_session.cc:131] Profiler session initializing.\n",
      "2021-08-30 09:50:06.703751: I tensorflow/core/profiler/lib/profiler_session.cc:146] Profiler session started.\n",
      "2021-08-30 09:50:06.703799: I tensorflow/core/profiler/internal/gpu/cupti_tracer.cc:1614] Profiler found 1 GPUs\n",
      "2021-08-30 09:50:06.704349: W tensorflow/stream_executor/platform/default/dso_loader.cc:64] Could not load dynamic library 'libcupti.so.11.2'; dlerror: libcupti.so.11.2: cannot open shared object file: No such file or directory; LD_LIBRARY_PATH: /usr/local/nvidia/lib:/usr/local/nvidia/lib64\n",
      "2021-08-30 09:50:06.719168: E tensorflow/core/profiler/internal/gpu/cupti_tracer.cc:1666] function cupti_interface_->Subscribe( &subscriber_, (CUpti_CallbackFunc)ApiCallback, this)failed with error CUPTI_ERROR_NOT_INITIALIZED\n",
      "2021-08-30 09:50:06.719421: I tensorflow/core/profiler/lib/profiler_session.cc:164] Profiler session tear down.\n"
     ]
    }
   ],
   "metadata": {}
  },
  {
   "cell_type": "code",
   "execution_count": 7,
   "source": [
    "loss_object = tf.keras.losses.SparseCategoricalCrossentropy()\n",
    "optimizer = tf.keras.optimizers.Adam()"
   ],
   "outputs": [],
   "metadata": {}
  },
  {
   "cell_type": "code",
   "execution_count": 8,
   "source": [
    "# Define our metrics\n",
    "train_loss = tf.keras.metrics.Mean('train_loss', dtype=tf.float32)\n",
    "train_accuracy = tf.keras.metrics.SparseCategoricalAccuracy('train_accuracy')\n",
    "valid_loss = tf.keras.metrics.Mean('valid_loss', dtype=tf.float32)\n",
    "valid_accuracy = tf.keras.metrics.SparseCategoricalAccuracy('valid_accuracy')"
   ],
   "outputs": [],
   "metadata": {}
  },
  {
   "cell_type": "code",
   "execution_count": 9,
   "source": [
    "current_time = datetime.datetime.now().strftime(\"%Y%m%d-%H%M%S\")\n",
    "train_log_dir = 'logs/gradient_tape/' + current_time + '/train'\n",
    "valid_log_dir = 'logs/gradient_tape/' + current_time + '/valid'\n",
    "train_summary_writer = tf.summary.create_file_writer(train_log_dir)\n",
    "valid_summary_writer = tf.summary.create_file_writer(valid_log_dir)"
   ],
   "outputs": [],
   "metadata": {}
  },
  {
   "cell_type": "code",
   "execution_count": 10,
   "source": [
    "train_and_test(model, loss_object, optimizer, train_ds, valid_ds, 20, train_loss, valid_loss, train_accuracy, valid_accuracy, train_summary_writer, valid_summary_writer)"
   ],
   "outputs": [
    {
     "output_type": "stream",
     "name": "stderr",
     "text": [
      "2021-08-30 09:50:06.974695: W tensorflow/core/framework/cpu_allocator_impl.cc:80] Allocation of 37632000 exceeds 10% of free system memory.\n",
      "2021-08-30 09:50:07.013549: I tensorflow/compiler/mlir/mlir_graph_optimization_pass.cc:185] None of the MLIR Optimization Passes are enabled (registered 2)\n"
     ]
    },
    {
     "output_type": "stream",
     "name": "stdout",
     "text": [
      "Epoch 1, Loss: 0.7906481027603149, Accuracy: 0.7910833358764648, Test Loss: 0.353305459022522, Test Accuracy: 0.906333327293396\n"
     ]
    },
    {
     "output_type": "stream",
     "name": "stderr",
     "text": [
      "2021-08-30 09:50:12.398473: W tensorflow/core/framework/cpu_allocator_impl.cc:80] Allocation of 37632000 exceeds 10% of free system memory.\n"
     ]
    },
    {
     "output_type": "stream",
     "name": "stdout",
     "text": [
      "Epoch 2, Loss: 0.5594486594200134, Accuracy: 0.8508750200271606, Test Loss: 0.3159688413143158, Test Accuracy: 0.9141250252723694\n"
     ]
    },
    {
     "output_type": "stream",
     "name": "stderr",
     "text": [
      "2021-08-30 09:50:15.218924: W tensorflow/core/framework/cpu_allocator_impl.cc:80] Allocation of 37632000 exceeds 10% of free system memory.\n"
     ]
    },
    {
     "output_type": "stream",
     "name": "stdout",
     "text": [
      "Epoch 3, Loss: 0.4629693627357483, Accuracy: 0.8756735920906067, Test Loss: 0.2910187244415283, Test Accuracy: 0.9210000038146973\n",
      "Epoch 4, Loss: 0.40600597858428955, Accuracy: 0.8903541564941406, Test Loss: 0.2726672887802124, Test Accuracy: 0.9257500171661377\n",
      "Epoch 5, Loss: 0.3667554259300232, Accuracy: 0.9006583094596863, Test Loss: 0.2583067715167999, Test Accuracy: 0.9295833110809326\n",
      "Epoch 6, Loss: 0.33719712495803833, Accuracy: 0.9084201455116272, Test Loss: 0.24706047773361206, Test Accuracy: 0.9325694441795349\n",
      "Epoch 7, Loss: 0.31381210684776306, Accuracy: 0.9145714044570923, Test Loss: 0.236512690782547, Test Accuracy: 0.9351547360420227\n",
      "Epoch 8, Loss: 0.2943815290927887, Accuracy: 0.919643223285675, Test Loss: 0.2275639772415161, Test Accuracy: 0.9373645782470703\n",
      "Epoch 9, Loss: 0.27798768877983093, Accuracy: 0.9240139126777649, Test Loss: 0.2199205607175827, Test Accuracy: 0.9392129778862\n",
      "Epoch 10, Loss: 0.26383641362190247, Accuracy: 0.9278125166893005, Test Loss: 0.2129170000553131, Test Accuracy: 0.941100001335144\n",
      "Epoch 11, Loss: 0.2514299750328064, Accuracy: 0.9311230778694153, Test Loss: 0.20692382752895355, Test Accuracy: 0.9425302743911743\n",
      "Epoch 12, Loss: 0.2404177486896515, Accuracy: 0.9340955018997192, Test Loss: 0.20171348750591278, Test Accuracy: 0.9438541531562805\n",
      "Epoch 13, Loss: 0.23057837784290314, Accuracy: 0.9367451667785645, Test Loss: 0.19648879766464233, Test Accuracy: 0.9452051520347595\n",
      "Epoch 14, Loss: 0.2216288298368454, Accuracy: 0.9391487836837769, Test Loss: 0.19170644879341125, Test Accuracy: 0.946351170539856\n",
      "Epoch 15, Loss: 0.21348845958709717, Accuracy: 0.9413305521011353, Test Loss: 0.187416210770607, Test Accuracy: 0.947433352470398\n",
      "Epoch 16, Loss: 0.2060185670852661, Accuracy: 0.9433450698852539, Test Loss: 0.18338893353939056, Test Accuracy: 0.9484218955039978\n",
      "Epoch 17, Loss: 0.19910576939582825, Accuracy: 0.9452230334281921, Test Loss: 0.17978544533252716, Test Accuracy: 0.9493186473846436\n",
      "Epoch 18, Loss: 0.1927129328250885, Accuracy: 0.9469432830810547, Test Loss: 0.17636515200138092, Test Accuracy: 0.950175940990448\n",
      "Epoch 19, Loss: 0.18676887452602386, Accuracy: 0.9485383629798889, Test Loss: 0.17341910302639008, Test Accuracy: 0.9509517550468445\n",
      "Epoch 20, Loss: 0.1812291443347931, Accuracy: 0.9500364661216736, Test Loss: 0.17051047086715698, Test Accuracy: 0.951658308506012\n"
     ]
    }
   ],
   "metadata": {}
  },
  {
   "cell_type": "code",
   "execution_count": 11,
   "source": [
    "model.evaluate(test_ds)"
   ],
   "outputs": [
    {
     "output_type": "stream",
     "name": "stdout",
     "text": [
      "20/20 [==============================] - 1s 11ms/step - loss: 0.1080 - accuracy: 0.9660\n"
     ]
    },
    {
     "output_type": "execute_result",
     "data": {
      "text/plain": [
       "[0.10797687619924545, 0.9660000205039978]"
      ]
     },
     "metadata": {},
     "execution_count": 11
    }
   ],
   "metadata": {}
  },
  {
   "cell_type": "code",
   "execution_count": 12,
   "source": [
    "%tensorboard --logdir logs/fit"
   ],
   "outputs": [
    {
     "output_type": "display_data",
     "data": {
      "text/plain": [
       "Reusing TensorBoard on port 6006 (pid 4037), started 0:29:03 ago. (Use '!kill 4037' to kill it.)"
      ]
     },
     "metadata": {}
    },
    {
     "output_type": "display_data",
     "data": {
      "text/html": [
       "\n",
       "      <iframe id=\"tensorboard-frame-cc0d94a0703eeb06\" width=\"100%\" height=\"800\" frameborder=\"0\">\n",
       "      </iframe>\n",
       "      <script>\n",
       "        (function() {\n",
       "          const frame = document.getElementById(\"tensorboard-frame-cc0d94a0703eeb06\");\n",
       "          const url = new URL(\"http://localhost\");\n",
       "          const port = 6006;\n",
       "          if (port) {\n",
       "            url.port = port;\n",
       "          }\n",
       "          frame.src = url;\n",
       "        })();\n",
       "      </script>\n",
       "    "
      ],
      "text/plain": [
       "<IPython.core.display.HTML object>"
      ]
     },
     "metadata": {}
    }
   ],
   "metadata": {}
  },
  {
   "cell_type": "code",
   "execution_count": null,
   "source": [],
   "outputs": [],
   "metadata": {}
  }
 ],
 "metadata": {
  "orig_nbformat": 4,
  "language_info": {
   "name": "python",
   "version": "3.8.10",
   "mimetype": "text/x-python",
   "codemirror_mode": {
    "name": "ipython",
    "version": 3
   },
   "pygments_lexer": "ipython3",
   "nbconvert_exporter": "python",
   "file_extension": ".py"
  },
  "kernelspec": {
   "name": "python3",
   "display_name": "Python 3.8.10 64-bit ('.venv': poetry)"
  },
  "interpreter": {
   "hash": "b6e9cd543eb3d489f861f1fd199b69c91e51133375e423accacd88bcc33c23ed"
  }
 },
 "nbformat": 4,
 "nbformat_minor": 2
}