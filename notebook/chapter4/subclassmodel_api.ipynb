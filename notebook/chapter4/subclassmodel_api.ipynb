{
 "cells": [
  {
   "cell_type": "markdown",
   "source": [
    "# Subclass model api"
   ],
   "metadata": {}
  },
  {
   "cell_type": "code",
   "execution_count": 12,
   "source": [
    "import tensorflow as tf\n",
    "import datetime\n",
    "from common import create_dataset, SubclassModel\n",
    "\n",
    "%load_ext tensorboard"
   ],
   "outputs": [
    {
     "output_type": "stream",
     "name": "stdout",
     "text": [
      "The tensorboard extension is already loaded. To reload it, use:\n",
      "  %reload_ext tensorboard\n"
     ]
    }
   ],
   "metadata": {}
  },
  {
   "cell_type": "code",
   "execution_count": 13,
   "source": [
    "gpus = tf.config.experimental.list_physical_devices('GPU')\n",
    "if gpus:\n",
    "  try:\n",
    "    # Currently, memory growth needs to be the same across GPUs\n",
    "    for gpu in gpus:\n",
    "      tf.config.experimental.set_memory_growth(gpu, True)\n",
    "    logical_gpus = tf.config.experimental.list_logical_devices('GPU')\n",
    "    print(len(gpus), \"Physical GPUs,\", len(logical_gpus), \"Logical GPUs\")\n",
    "  except RuntimeError as e:\n",
    "    # Memory growth must be set before GPUs have been initialized\n",
    "    print(e)"
   ],
   "outputs": [
    {
     "output_type": "stream",
     "name": "stdout",
     "text": [
      "1 Physical GPUs, 1 Logical GPUs\n"
     ]
    }
   ],
   "metadata": {}
  },
  {
   "cell_type": "markdown",
   "source": [
    "## データ取得"
   ],
   "metadata": {}
  },
  {
   "cell_type": "code",
   "execution_count": 14,
   "source": [
    "train_ds, valid_ds, test_ds = create_dataset(512, 0.2)"
   ],
   "outputs": [
    {
     "output_type": "stream",
     "name": "stderr",
     "text": [
      "2021-08-29 03:14:08.870235: W tensorflow/core/framework/cpu_allocator_impl.cc:80] Allocation of 37632000 exceeds 10% of free system memory.\n",
      "2021-08-29 03:14:09.108497: W tensorflow/core/framework/cpu_allocator_impl.cc:80] Allocation of 37632000 exceeds 10% of free system memory.\n"
     ]
    }
   ],
   "metadata": {}
  },
  {
   "cell_type": "markdown",
   "source": [
    "## 学習"
   ],
   "metadata": {}
  },
  {
   "cell_type": "code",
   "execution_count": 15,
   "source": [
    "model = SubclassModel()"
   ],
   "outputs": [],
   "metadata": {}
  },
  {
   "cell_type": "code",
   "execution_count": 16,
   "source": [
    "model.compile(\n",
    "    loss=\"sparse_categorical_crossentropy\",\n",
    "    optimizer=\"adam\",\n",
    "    metrics=[\"accuracy\"]\n",
    ")"
   ],
   "outputs": [],
   "metadata": {}
  },
  {
   "cell_type": "code",
   "execution_count": 18,
   "source": [
    "log_dir = \"logs/fit/\" + datetime.datetime.now().strftime(\"%Y%m%d-%H%M%S\")\n",
    "tensorboard_callback = tf.keras.callbacks.TensorBoard(log_dir=log_dir, histogram_freq=1)\n",
    "\n",
    "history = model.fit(train_ds, validation_data=valid_ds, epochs=20, callbacks=[tensorboard_callback])"
   ],
   "outputs": [
    {
     "output_type": "stream",
     "name": "stderr",
     "text": [
      "2021-08-29 03:14:18.697503: I tensorflow/core/profiler/lib/profiler_session.cc:131] Profiler session initializing.\n",
      "2021-08-29 03:14:18.697565: I tensorflow/core/profiler/lib/profiler_session.cc:146] Profiler session started.\n",
      "2021-08-29 03:14:18.697613: I tensorflow/core/profiler/internal/gpu/cupti_tracer.cc:1614] Profiler found 1 GPUs\n",
      "2021-08-29 03:14:18.698439: W tensorflow/stream_executor/platform/default/dso_loader.cc:64] Could not load dynamic library 'libcupti.so.11.2'; dlerror: libcupti.so.11.2: cannot open shared object file: No such file or directory; LD_LIBRARY_PATH: /usr/local/nvidia/lib:/usr/local/nvidia/lib64\n",
      "2021-08-29 03:14:18.721546: E tensorflow/core/profiler/internal/gpu/cupti_tracer.cc:1666] function cupti_interface_->Subscribe( &subscriber_, (CUpti_CallbackFunc)ApiCallback, this)failed with error CUPTI_ERROR_NOT_INITIALIZED\n",
      "2021-08-29 03:14:18.721767: I tensorflow/core/profiler/lib/profiler_session.cc:164] Profiler session tear down.\n",
      "2021-08-29 03:14:19.195731: W tensorflow/core/framework/cpu_allocator_impl.cc:80] Allocation of 37632000 exceeds 10% of free system memory.\n"
     ]
    },
    {
     "output_type": "stream",
     "name": "stdout",
     "text": [
      "Epoch 1/20\n"
     ]
    },
    {
     "output_type": "stream",
     "name": "stderr",
     "text": [
      "2021-08-29 03:14:19.504457: I tensorflow/compiler/mlir/mlir_graph_optimization_pass.cc:185] None of the MLIR Optimization Passes are enabled (registered 2)\n"
     ]
    },
    {
     "output_type": "stream",
     "name": "stdout",
     "text": [
      " 5/94 [>.............................] - ETA: 4s - loss: 2.2438 - accuracy: 0.2082"
     ]
    },
    {
     "output_type": "stream",
     "name": "stderr",
     "text": [
      "2021-08-29 03:14:21.716905: I tensorflow/core/profiler/lib/profiler_session.cc:131] Profiler session initializing.\n",
      "2021-08-29 03:14:21.716958: I tensorflow/core/profiler/lib/profiler_session.cc:146] Profiler session started.\n",
      "2021-08-29 03:14:21.732983: E tensorflow/core/profiler/internal/gpu/cupti_tracer.cc:1666] function cupti_interface_->Subscribe( &subscriber_, (CUpti_CallbackFunc)ApiCallback, this)failed with error CUPTI_ERROR_NOT_INITIALIZED\n",
      "2021-08-29 03:14:21.760894: I tensorflow/core/profiler/lib/profiler_session.cc:66] Profiler session collecting data.\n",
      "2021-08-29 03:14:21.772917: I tensorflow/core/profiler/internal/gpu/cupti_collector.cc:673]  GpuTracer has collected 0 callback api events and 0 activity events. \n",
      "2021-08-29 03:14:21.778843: I tensorflow/core/profiler/lib/profiler_session.cc:164] Profiler session tear down.\n",
      "2021-08-29 03:14:21.799319: I tensorflow/core/profiler/rpc/client/save_profile.cc:136] Creating directory: logs/fit/20210829-031418/train/plugins/profile/2021_08_29_03_14_21\n",
      "\n",
      "2021-08-29 03:14:21.811847: I tensorflow/core/profiler/rpc/client/save_profile.cc:142] Dumped gzipped tool data for trace.json.gz to logs/fit/20210829-031418/train/plugins/profile/2021_08_29_03_14_21/1c980a84628e.trace.json.gz\n",
      "2021-08-29 03:14:21.820802: I tensorflow/core/profiler/rpc/client/save_profile.cc:136] Creating directory: logs/fit/20210829-031418/train/plugins/profile/2021_08_29_03_14_21\n",
      "\n",
      "2021-08-29 03:14:21.823032: I tensorflow/core/profiler/rpc/client/save_profile.cc:142] Dumped gzipped tool data for memory_profile.json.gz to logs/fit/20210829-031418/train/plugins/profile/2021_08_29_03_14_21/1c980a84628e.memory_profile.json.gz\n",
      "2021-08-29 03:14:21.823407: I tensorflow/core/profiler/rpc/client/capture_profile.cc:251] Creating directory: logs/fit/20210829-031418/train/plugins/profile/2021_08_29_03_14_21\n",
      "Dumped tool data for xplane.pb to logs/fit/20210829-031418/train/plugins/profile/2021_08_29_03_14_21/1c980a84628e.xplane.pb\n",
      "Dumped tool data for overview_page.pb to logs/fit/20210829-031418/train/plugins/profile/2021_08_29_03_14_21/1c980a84628e.overview_page.pb\n",
      "Dumped tool data for input_pipeline.pb to logs/fit/20210829-031418/train/plugins/profile/2021_08_29_03_14_21/1c980a84628e.input_pipeline.pb\n",
      "Dumped tool data for tensorflow_stats.pb to logs/fit/20210829-031418/train/plugins/profile/2021_08_29_03_14_21/1c980a84628e.tensorflow_stats.pb\n",
      "Dumped tool data for kernel_stats.pb to logs/fit/20210829-031418/train/plugins/profile/2021_08_29_03_14_21/1c980a84628e.kernel_stats.pb\n",
      "\n"
     ]
    },
    {
     "output_type": "stream",
     "name": "stdout",
     "text": [
      "94/94 [==============================] - 5s 30ms/step - loss: 0.8047 - accuracy: 0.7887 - val_loss: 0.3594 - val_accuracy: 0.9013\n",
      "Epoch 2/20\n",
      "94/94 [==============================] - 3s 25ms/step - loss: 0.3358 - accuracy: 0.9072 - val_loss: 0.2859 - val_accuracy: 0.9183\n",
      "Epoch 3/20\n",
      "94/94 [==============================] - 3s 23ms/step - loss: 0.2778 - accuracy: 0.9219 - val_loss: 0.2495 - val_accuracy: 0.9318\n",
      "Epoch 4/20\n",
      "94/94 [==============================] - 3s 22ms/step - loss: 0.2421 - accuracy: 0.9318 - val_loss: 0.2278 - val_accuracy: 0.9371\n",
      "Epoch 5/20\n",
      "94/94 [==============================] - 3s 25ms/step - loss: 0.2150 - accuracy: 0.9396 - val_loss: 0.2070 - val_accuracy: 0.9426\n",
      "Epoch 6/20\n",
      "94/94 [==============================] - 3s 24ms/step - loss: 0.1933 - accuracy: 0.9451 - val_loss: 0.1924 - val_accuracy: 0.9467\n",
      "Epoch 7/20\n",
      "94/94 [==============================] - 3s 23ms/step - loss: 0.1751 - accuracy: 0.9514 - val_loss: 0.1775 - val_accuracy: 0.9517\n",
      "Epoch 8/20\n",
      "94/94 [==============================] - 3s 24ms/step - loss: 0.1601 - accuracy: 0.9546 - val_loss: 0.1693 - val_accuracy: 0.9535\n",
      "Epoch 9/20\n",
      "94/94 [==============================] - 3s 25ms/step - loss: 0.1472 - accuracy: 0.9585 - val_loss: 0.1622 - val_accuracy: 0.9538\n",
      "Epoch 10/20\n",
      "94/94 [==============================] - 3s 25ms/step - loss: 0.1365 - accuracy: 0.9612 - val_loss: 0.1527 - val_accuracy: 0.9572\n",
      "Epoch 11/20\n",
      "94/94 [==============================] - 3s 24ms/step - loss: 0.1262 - accuracy: 0.9647 - val_loss: 0.1457 - val_accuracy: 0.9589\n",
      "Epoch 12/20\n",
      "94/94 [==============================] - 3s 24ms/step - loss: 0.1175 - accuracy: 0.9675 - val_loss: 0.1431 - val_accuracy: 0.9591\n",
      "Epoch 13/20\n",
      "94/94 [==============================] - 3s 25ms/step - loss: 0.1099 - accuracy: 0.9687 - val_loss: 0.1355 - val_accuracy: 0.9605\n",
      "Epoch 14/20\n",
      "94/94 [==============================] - 3s 25ms/step - loss: 0.1024 - accuracy: 0.9716 - val_loss: 0.1338 - val_accuracy: 0.9616\n",
      "Epoch 15/20\n",
      "94/94 [==============================] - 3s 24ms/step - loss: 0.0958 - accuracy: 0.9733 - val_loss: 0.1266 - val_accuracy: 0.9638\n",
      "Epoch 16/20\n",
      "94/94 [==============================] - 3s 24ms/step - loss: 0.0902 - accuracy: 0.9749 - val_loss: 0.1224 - val_accuracy: 0.9653\n",
      "Epoch 17/20\n",
      "94/94 [==============================] - 3s 26ms/step - loss: 0.0852 - accuracy: 0.9765 - val_loss: 0.1199 - val_accuracy: 0.9656\n",
      "Epoch 18/20\n",
      "94/94 [==============================] - 3s 25ms/step - loss: 0.0796 - accuracy: 0.9778 - val_loss: 0.1187 - val_accuracy: 0.9657\n",
      "Epoch 19/20\n",
      "94/94 [==============================] - 3s 25ms/step - loss: 0.0749 - accuracy: 0.9798 - val_loss: 0.1157 - val_accuracy: 0.9671\n",
      "Epoch 20/20\n",
      "94/94 [==============================] - 3s 26ms/step - loss: 0.0709 - accuracy: 0.9811 - val_loss: 0.1121 - val_accuracy: 0.9675\n"
     ]
    }
   ],
   "metadata": {}
  },
  {
   "cell_type": "code",
   "execution_count": 19,
   "source": [
    "model.evaluate(test_ds)"
   ],
   "outputs": [
    {
     "output_type": "stream",
     "name": "stdout",
     "text": [
      "20/20 [==============================] - 0s 13ms/step - loss: 0.1064 - accuracy: 0.9689\n"
     ]
    },
    {
     "output_type": "execute_result",
     "data": {
      "text/plain": [
       "[0.10635748505592346, 0.9689000248908997]"
      ]
     },
     "metadata": {},
     "execution_count": 19
    }
   ],
   "metadata": {}
  },
  {
   "cell_type": "code",
   "execution_count": 12,
   "source": [
    "%tensorboard --logdir logs/fit"
   ],
   "outputs": [
    {
     "output_type": "display_data",
     "data": {
      "text/plain": [
       "Reusing TensorBoard on port 6006 (pid 13912), started 0:44:33 ago. (Use '!kill 13912' to kill it.)"
      ]
     },
     "metadata": {}
    },
    {
     "output_type": "display_data",
     "data": {
      "text/html": [
       "\n",
       "      <iframe id=\"tensorboard-frame-893a71ce11a56865\" width=\"100%\" height=\"800\" frameborder=\"0\">\n",
       "      </iframe>\n",
       "      <script>\n",
       "        (function() {\n",
       "          const frame = document.getElementById(\"tensorboard-frame-893a71ce11a56865\");\n",
       "          const url = new URL(\"http://localhost\");\n",
       "          const port = 6006;\n",
       "          if (port) {\n",
       "            url.port = port;\n",
       "          }\n",
       "          frame.src = url;\n",
       "        })();\n",
       "      </script>\n",
       "    "
      ],
      "text/plain": [
       "<IPython.core.display.HTML object>"
      ]
     },
     "metadata": {}
    }
   ],
   "metadata": {}
  },
  {
   "cell_type": "code",
   "execution_count": null,
   "source": [],
   "outputs": [],
   "metadata": {}
  }
 ],
 "metadata": {
  "orig_nbformat": 4,
  "language_info": {
   "name": "python",
   "version": "3.8.10",
   "mimetype": "text/x-python",
   "codemirror_mode": {
    "name": "ipython",
    "version": 3
   },
   "pygments_lexer": "ipython3",
   "nbconvert_exporter": "python",
   "file_extension": ".py"
  },
  "kernelspec": {
   "name": "python3",
   "display_name": "Python 3.8.10 64-bit ('.venv': poetry)"
  },
  "interpreter": {
   "hash": "b6e9cd543eb3d489f861f1fd199b69c91e51133375e423accacd88bcc33c23ed"
  }
 },
 "nbformat": 4,
 "nbformat_minor": 2
}