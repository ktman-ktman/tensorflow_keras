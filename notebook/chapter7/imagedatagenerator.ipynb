{
 "cells": [
  {
   "cell_type": "markdown",
   "source": [
    "# Image Data Generator"
   ],
   "metadata": {}
  },
  {
   "cell_type": "code",
   "execution_count": 2,
   "source": [
    "import tensorflow as tf"
   ],
   "outputs": [],
   "metadata": {}
  },
  {
   "cell_type": "code",
   "execution_count": 4,
   "source": [
    "generator = tf.keras.preprocessing.image.ImageDataGenerator(\n",
    "    rescale=1/255.,\n",
    "    rotation_range=90.,\n",
    "    width_shift_range=1.,\n",
    "    height_shift_range=.5,\n",
    "    shear_range=.8,\n",
    "    zoom_range=.5,\n",
    "    horizontal_flip=True,\n",
    "    vertical_flip=True,\n",
    ")"
   ],
   "outputs": [],
   "metadata": {}
  },
  {
   "cell_type": "code",
   "execution_count": null,
   "source": [],
   "outputs": [],
   "metadata": {}
  }
 ],
 "metadata": {
  "orig_nbformat": 4,
  "language_info": {
   "name": "python",
   "version": "3.8.10",
   "mimetype": "text/x-python",
   "codemirror_mode": {
    "name": "ipython",
    "version": 3
   },
   "pygments_lexer": "ipython3",
   "nbconvert_exporter": "python",
   "file_extension": ".py"
  },
  "kernelspec": {
   "name": "python3",
   "display_name": "Python 3.8.10 64-bit ('.venv': poetry)"
  },
  "interpreter": {
   "hash": "b6e9cd543eb3d489f861f1fd199b69c91e51133375e423accacd88bcc33c23ed"
  }
 },
 "nbformat": 4,
 "nbformat_minor": 2
}